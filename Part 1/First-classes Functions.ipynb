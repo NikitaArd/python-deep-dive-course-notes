{
 "cells": [
  {
   "cell_type": "markdown",
   "id": "0192e9ee",
   "metadata": {},
   "source": [
    "# First-classes Functions ( Sekcja 6 )"
   ]
  },
  {
   "cell_type": "markdown",
   "id": "afbfb785",
   "metadata": {},
   "source": [
    "## docstrings"
   ]
  },
  {
   "cell_type": "code",
   "execution_count": 7,
   "id": "4200662e",
   "metadata": {},
   "outputs": [],
   "source": [
    "def my_func():\n",
    "    \"\"\"\n",
    "    This is my_func that return some infromation\n",
    "    \"\"\"\n",
    "    return 'Some information'"
   ]
  },
  {
   "cell_type": "code",
   "execution_count": 8,
   "id": "5835f10a",
   "metadata": {},
   "outputs": [
    {
     "name": "stdout",
     "output_type": "stream",
     "text": [
      "Help on function my_func in module __main__:\n",
      "\n",
      "my_func()\n",
      "    This is my_func that return some infromation\n",
      "\n"
     ]
    }
   ],
   "source": [
    "help(my_func)"
   ]
  },
  {
   "cell_type": "code",
   "execution_count": 9,
   "id": "7003ad17",
   "metadata": {},
   "outputs": [
    {
     "data": {
      "text/plain": [
       "'\\n    This is my_func that return some infromation\\n    '"
      ]
     },
     "execution_count": 9,
     "metadata": {},
     "output_type": "execute_result"
    }
   ],
   "source": [
    "my_func.__doc__"
   ]
  },
  {
   "cell_type": "markdown",
   "id": "731289f2",
   "metadata": {},
   "source": [
    "## annotations"
   ]
  },
  {
   "cell_type": "code",
   "execution_count": 3,
   "id": "927155f8",
   "metadata": {},
   "outputs": [],
   "source": [
    "def my_func(a: 'i will return this parametr') -> 'parametr a':\n",
    "    return a"
   ]
  },
  {
   "cell_type": "code",
   "execution_count": 4,
   "id": "91294d47",
   "metadata": {},
   "outputs": [
    {
     "name": "stdout",
     "output_type": "stream",
     "text": [
      "Help on function my_func in module __main__:\n",
      "\n",
      "my_func(a: 'i will return this parametr') -> 'parametr a'\n",
      "\n"
     ]
    }
   ],
   "source": [
    "help(my_func)"
   ]
  },
  {
   "cell_type": "code",
   "execution_count": 5,
   "id": "800a3165",
   "metadata": {},
   "outputs": [
    {
     "data": {
      "text/plain": [
       "{'a': 'i will return this parametr', 'return': 'parametr a'}"
      ]
     },
     "execution_count": 5,
     "metadata": {},
     "output_type": "execute_result"
    }
   ],
   "source": [
    "my_func.__annotations__"
   ]
  },
  {
   "cell_type": "markdown",
   "id": "33a17130",
   "metadata": {},
   "source": [
    "---"
   ]
  },
  {
   "cell_type": "markdown",
   "id": "e7b8a7b7",
   "metadata": {},
   "source": [
    "## Lambda Expressions ( Wyrażenia Lambda )"
   ]
  },
  {
   "cell_type": "markdown",
   "id": "8138b113",
   "metadata": {},
   "source": [
    "Wyrażenia lambda to tylko **inny sposób** na stworzenie funkcji"
   ]
  },
  {
   "cell_type": "markdown",
   "id": "cae7285a",
   "metadata": {},
   "source": [
    "lambda [parametrs]: expression"
   ]
  },
  {
   "cell_type": "code",
   "execution_count": 10,
   "id": "83fec097",
   "metadata": {},
   "outputs": [],
   "source": [
    "def my_func(a):\n",
    "    return a**2"
   ]
  },
  {
   "cell_type": "markdown",
   "id": "1b8df5fa",
   "metadata": {},
   "source": [
    "/|\\\n",
    " |------ to jest to samo !\n",
    "\\|/"
   ]
  },
  {
   "cell_type": "code",
   "execution_count": 11,
   "id": "539d01fa",
   "metadata": {},
   "outputs": [],
   "source": [
    "my_func_2 = lambda a: a**2"
   ]
  },
  {
   "cell_type": "code",
   "execution_count": 12,
   "id": "f0a2ea7a",
   "metadata": {},
   "outputs": [
    {
     "data": {
      "text/plain": [
       "True"
      ]
     },
     "execution_count": 12,
     "metadata": {},
     "output_type": "execute_result"
    }
   ],
   "source": [
    "type(my_func) == type(my_func_2)"
   ]
  },
  {
   "cell_type": "markdown",
   "id": "c8b8e01f",
   "metadata": {},
   "source": [
    "# Function Attributes"
   ]
  },
  {
   "cell_type": "markdown",
   "id": "7904fc9a",
   "metadata": {},
   "source": [
    "**Funkcja** tak samo jak każdy inny typ danych w Python jest objektem i ma swoje atrybuty, metody."
   ]
  },
  {
   "cell_type": "code",
   "execution_count": 23,
   "id": "b32082e3",
   "metadata": {},
   "outputs": [],
   "source": [
    "def my_func(a, b=2, c=2, *, kw1=4, kw2=5):\n",
    "    return a"
   ]
  },
  {
   "cell_type": "code",
   "execution_count": 24,
   "id": "60db4249",
   "metadata": {},
   "outputs": [
    {
     "data": {
      "text/plain": [
       "['__annotations__',\n",
       " '__builtins__',\n",
       " '__call__',\n",
       " '__class__',\n",
       " '__closure__',\n",
       " '__code__',\n",
       " '__defaults__',\n",
       " '__delattr__',\n",
       " '__dict__',\n",
       " '__dir__',\n",
       " '__doc__',\n",
       " '__eq__',\n",
       " '__format__',\n",
       " '__ge__',\n",
       " '__get__',\n",
       " '__getattribute__',\n",
       " '__globals__',\n",
       " '__gt__',\n",
       " '__hash__',\n",
       " '__init__',\n",
       " '__init_subclass__',\n",
       " '__kwdefaults__',\n",
       " '__le__',\n",
       " '__lt__',\n",
       " '__module__',\n",
       " '__name__',\n",
       " '__ne__',\n",
       " '__new__',\n",
       " '__qualname__',\n",
       " '__reduce__',\n",
       " '__reduce_ex__',\n",
       " '__repr__',\n",
       " '__setattr__',\n",
       " '__sizeof__',\n",
       " '__str__',\n",
       " '__subclasshook__']"
      ]
     },
     "execution_count": 24,
     "metadata": {},
     "output_type": "execute_result"
    }
   ],
   "source": [
    "dir(my_func)"
   ]
  },
  {
   "cell_type": "code",
   "execution_count": 25,
   "id": "cfaaa9d9",
   "metadata": {},
   "outputs": [
    {
     "data": {
      "text/plain": [
       "'my_func'"
      ]
     },
     "execution_count": 25,
     "metadata": {},
     "output_type": "execute_result"
    }
   ],
   "source": [
    "# Nazwa funkcji\n",
    "my_func.__name__"
   ]
  },
  {
   "cell_type": "code",
   "execution_count": 26,
   "id": "dfcd0942",
   "metadata": {},
   "outputs": [
    {
     "data": {
      "text/plain": [
       "(2, 2)"
      ]
     },
     "execution_count": 26,
     "metadata": {},
     "output_type": "execute_result"
    }
   ],
   "source": [
    "# Domyślne args (tuple)\n",
    "my_func.__defaults__"
   ]
  },
  {
   "cell_type": "code",
   "execution_count": 27,
   "id": "97fba166",
   "metadata": {},
   "outputs": [
    {
     "data": {
      "text/plain": [
       "{'kw1': 4, 'kw2': 5}"
      ]
     },
     "execution_count": 27,
     "metadata": {},
     "output_type": "execute_result"
    }
   ],
   "source": [
    "# Domyślne kwargs (dict)\n",
    "my_func.__kwdefaults__"
   ]
  },
  {
   "cell_type": "code",
   "execution_count": 28,
   "id": "49a9db97",
   "metadata": {},
   "outputs": [],
   "source": [
    "# Przykłąd tworzenia funkcji w funkcji\n",
    "def func(a):\n",
    "    return a"
   ]
  },
  {
   "cell_type": "code",
   "execution_count": 29,
   "id": "7538687f",
   "metadata": {},
   "outputs": [],
   "source": [
    "func.func1 = lambda x: x**2"
   ]
  },
  {
   "cell_type": "code",
   "execution_count": 31,
   "id": "9e00c8ad",
   "metadata": {},
   "outputs": [
    {
     "data": {
      "text/plain": [
       "16"
      ]
     },
     "execution_count": 31,
     "metadata": {},
     "output_type": "execute_result"
    }
   ],
   "source": [
    "func.func1(4)"
   ]
  },
  {
   "cell_type": "code",
   "execution_count": 32,
   "id": "72ff5873",
   "metadata": {},
   "outputs": [
    {
     "data": {
      "text/plain": [
       "4"
      ]
     },
     "execution_count": 32,
     "metadata": {},
     "output_type": "execute_result"
    }
   ],
   "source": [
    "func(4)"
   ]
  },
  {
   "cell_type": "markdown",
   "id": "5bf693d5",
   "metadata": {},
   "source": [
    "# Callable objects"
   ]
  },
  {
   "cell_type": "code",
   "execution_count": 1,
   "id": "34f69daf",
   "metadata": {},
   "outputs": [
    {
     "data": {
      "text/plain": [
       "True"
      ]
     },
     "execution_count": 1,
     "metadata": {},
     "output_type": "execute_result"
    }
   ],
   "source": [
    "callable(print)"
   ]
  },
  {
   "cell_type": "code",
   "execution_count": 3,
   "id": "e705a81e",
   "metadata": {},
   "outputs": [
    {
     "data": {
      "text/plain": [
       "False"
      ]
     },
     "execution_count": 3,
     "metadata": {},
     "output_type": "execute_result"
    }
   ],
   "source": [
    "a = 123\n",
    "callable(a)"
   ]
  },
  {
   "cell_type": "code",
   "execution_count": 8,
   "id": "027aa73a",
   "metadata": {},
   "outputs": [],
   "source": [
    "class MyClass:\n",
    "    def __init__(self):\n",
    "        print('initializing . . .')"
   ]
  },
  {
   "cell_type": "code",
   "execution_count": 9,
   "id": "642e4efb",
   "metadata": {},
   "outputs": [
    {
     "name": "stdout",
     "output_type": "stream",
     "text": [
      "initializing . . .\n"
     ]
    }
   ],
   "source": [
    "a = MyClass()"
   ]
  },
  {
   "cell_type": "code",
   "execution_count": 10,
   "id": "dce4f2c4",
   "metadata": {},
   "outputs": [
    {
     "data": {
      "text/plain": [
       "False"
      ]
     },
     "execution_count": 10,
     "metadata": {},
     "output_type": "execute_result"
    }
   ],
   "source": [
    "callable(a)"
   ]
  },
  {
   "cell_type": "code",
   "execution_count": 11,
   "id": "1649d7b3",
   "metadata": {},
   "outputs": [],
   "source": [
    "class MyClass:\n",
    "    def __init__(self):\n",
    "        print('initializing . . .')\n",
    "        \n",
    "    def __call__(self):\n",
    "        print('updating . . .')"
   ]
  },
  {
   "cell_type": "code",
   "execution_count": 12,
   "id": "67d211e7",
   "metadata": {},
   "outputs": [
    {
     "name": "stdout",
     "output_type": "stream",
     "text": [
      "initializing . . .\n"
     ]
    }
   ],
   "source": [
    "b = MyClass()"
   ]
  },
  {
   "cell_type": "code",
   "execution_count": 13,
   "id": "32a29d62",
   "metadata": {},
   "outputs": [
    {
     "data": {
      "text/plain": [
       "True"
      ]
     },
     "execution_count": 13,
     "metadata": {},
     "output_type": "execute_result"
    }
   ],
   "source": [
    "callable(b)"
   ]
  },
  {
   "cell_type": "code",
   "execution_count": null,
   "id": "001f919d",
   "metadata": {},
   "outputs": [],
   "source": []
  }
 ],
 "metadata": {
  "kernelspec": {
   "display_name": "Python 3 (ipykernel)",
   "language": "python",
   "name": "python3"
  },
  "language_info": {
   "codemirror_mode": {
    "name": "ipython",
    "version": 3
   },
   "file_extension": ".py",
   "mimetype": "text/x-python",
   "name": "python",
   "nbconvert_exporter": "python",
   "pygments_lexer": "ipython3",
   "version": "3.10.8"
  }
 },
 "nbformat": 4,
 "nbformat_minor": 5
}
