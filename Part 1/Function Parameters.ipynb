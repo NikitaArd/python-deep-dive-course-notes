{
 "cells": [
  {
   "cell_type": "markdown",
   "id": "23a8db31",
   "metadata": {},
   "source": [
    "# Różnica między Parametrem a Argumentem"
   ]
  },
  {
   "cell_type": "code",
   "execution_count": 1,
   "id": "faf6acc5",
   "metadata": {},
   "outputs": [],
   "source": [
    "# a i b są Parametrami funkcji my_func\n",
    "def my_func(a, b):\n",
    "    pass"
   ]
  },
  {
   "cell_type": "code",
   "execution_count": 2,
   "id": "552a89c3",
   "metadata": {},
   "outputs": [],
   "source": [
    "x = 10\n",
    "y = 'a'\n",
    "\n",
    "# x i y są Argumentami funkcji my_func\n",
    "my_func(x, y)"
   ]
  },
  {
   "cell_type": "markdown",
   "id": "56f58db6",
   "metadata": {},
   "source": [
    "### *[ ! ] Czasami te mojęcia mogą się mylić, więc nie trzeba ostro ich przestrzegać*"
   ]
  },
  {
   "cell_type": "markdown",
   "id": "dfd9111f",
   "metadata": {},
   "source": [
    "---"
   ]
  },
  {
   "cell_type": "code",
   "execution_count": 10,
   "id": "27c7c5da",
   "metadata": {},
   "outputs": [],
   "source": [
    "# Module and local scope of variables\n",
    "def my_func_2(a):\n",
    "    print(hex(id(a))) # Tu adres a == adres x\n",
    "    a = a + 1 # Tu Python zapisuje znaczenie a do nowej komórki\n",
    "    print(hex(id(a))) # Tu adres a != adres x"
   ]
  },
  {
   "cell_type": "code",
   "execution_count": 11,
   "id": "1afb0c1f",
   "metadata": {},
   "outputs": [
    {
     "name": "stdout",
     "output_type": "stream",
     "text": [
      "0x10c9e0210\n",
      "0x10c9e0210\n",
      "0x10c9e0230\n",
      "0x10c9e0210\n"
     ]
    }
   ],
   "source": [
    "x = 10\n",
    "print(hex(id(x)))\n",
    "my_func_2(x)\n",
    "print(hex(id(x)))"
   ]
  },
  {
   "cell_type": "markdown",
   "id": "c3bfd51f",
   "metadata": {},
   "source": [
    "---"
   ]
  },
  {
   "cell_type": "markdown",
   "id": "040d7f2d",
   "metadata": {},
   "source": [
    "# Positional and Keyword arguments"
   ]
  },
  {
   "cell_type": "code",
   "execution_count": 3,
   "id": "f7ae03f0",
   "metadata": {},
   "outputs": [],
   "source": [
    "def my_func(a, b, c):\n",
    "    print('a={} b={} c={}'.format(a, b, c))"
   ]
  },
  {
   "cell_type": "code",
   "execution_count": 4,
   "id": "68016cc5",
   "metadata": {},
   "outputs": [
    {
     "name": "stdout",
     "output_type": "stream",
     "text": [
      "a=1 b=2 c=3\n"
     ]
    }
   ],
   "source": [
    "my_func(1, 2, 3)"
   ]
  },
  {
   "cell_type": "code",
   "execution_count": 5,
   "id": "acb6ed53",
   "metadata": {},
   "outputs": [],
   "source": [
    "def my_func(a, b=2, c=3):\n",
    "    print('a={} b={} c={}'.format(a, b, c))"
   ]
  },
  {
   "cell_type": "code",
   "execution_count": 6,
   "id": "8d730b13",
   "metadata": {},
   "outputs": [
    {
     "name": "stdout",
     "output_type": "stream",
     "text": [
      "a=1 b=20 c=30\n"
     ]
    }
   ],
   "source": [
    "my_func(1, 20, 30)"
   ]
  },
  {
   "cell_type": "code",
   "execution_count": 7,
   "id": "e683b7ac",
   "metadata": {},
   "outputs": [
    {
     "name": "stdout",
     "output_type": "stream",
     "text": [
      "a=1 b=12 c=100\n"
     ]
    }
   ],
   "source": [
    "my_func(1, c=100, b=12)"
   ]
  },
  {
   "cell_type": "code",
   "execution_count": 8,
   "id": "5bb09027",
   "metadata": {},
   "outputs": [
    {
     "name": "stdout",
     "output_type": "stream",
     "text": [
      "a=10 b=2 c=3\n"
     ]
    }
   ],
   "source": [
    "my_func(10)"
   ]
  },
  {
   "cell_type": "markdown",
   "id": "61014080",
   "metadata": {},
   "source": [
    "# Rozpakowywanie"
   ]
  },
  {
   "cell_type": "markdown",
   "id": "b16f98f9",
   "metadata": {},
   "source": [
    "### Tworzenie tuple"
   ]
  },
  {
   "cell_type": "code",
   "execution_count": null,
   "id": "20597c2b",
   "metadata": {},
   "outputs": [],
   "source": [
    "a = (1, 2, 3)"
   ]
  },
  {
   "cell_type": "code",
   "execution_count": 2,
   "id": "c6e430ea",
   "metadata": {},
   "outputs": [
    {
     "data": {
      "text/plain": [
       "tuple"
      ]
     },
     "execution_count": 2,
     "metadata": {},
     "output_type": "execute_result"
    }
   ],
   "source": [
    "type(a)"
   ]
  },
  {
   "cell_type": "code",
   "execution_count": 3,
   "id": "14b78ea2",
   "metadata": {},
   "outputs": [],
   "source": [
    "a = 1, 2, 3"
   ]
  },
  {
   "cell_type": "code",
   "execution_count": 4,
   "id": "bea58438",
   "metadata": {},
   "outputs": [
    {
     "data": {
      "text/plain": [
       "tuple"
      ]
     },
     "execution_count": 4,
     "metadata": {},
     "output_type": "execute_result"
    }
   ],
   "source": [
    "type(a)"
   ]
  },
  {
   "cell_type": "code",
   "execution_count": 5,
   "id": "0073b8aa",
   "metadata": {},
   "outputs": [],
   "source": [
    "a = (1)"
   ]
  },
  {
   "cell_type": "code",
   "execution_count": 6,
   "id": "221a9f10",
   "metadata": {},
   "outputs": [
    {
     "data": {
      "text/plain": [
       "int"
      ]
     },
     "execution_count": 6,
     "metadata": {},
     "output_type": "execute_result"
    }
   ],
   "source": [
    "type(a)"
   ]
  },
  {
   "cell_type": "code",
   "execution_count": 7,
   "id": "03fe657b",
   "metadata": {},
   "outputs": [],
   "source": [
    "a = (1,)"
   ]
  },
  {
   "cell_type": "code",
   "execution_count": 8,
   "id": "284c9e0e",
   "metadata": {},
   "outputs": [
    {
     "data": {
      "text/plain": [
       "tuple"
      ]
     },
     "execution_count": 8,
     "metadata": {},
     "output_type": "execute_result"
    }
   ],
   "source": [
    "type(a)"
   ]
  },
  {
   "cell_type": "markdown",
   "id": "4ba7b89e",
   "metadata": {},
   "source": [
    "### Unpaking"
   ]
  },
  {
   "cell_type": "code",
   "execution_count": 9,
   "id": "d0a61b9c",
   "metadata": {},
   "outputs": [],
   "source": [
    "a, b, c = [1, 2, 3]"
   ]
  },
  {
   "cell_type": "code",
   "execution_count": 10,
   "id": "562f44a7",
   "metadata": {},
   "outputs": [
    {
     "data": {
      "text/plain": [
       "(1, 2, 3)"
      ]
     },
     "execution_count": 10,
     "metadata": {},
     "output_type": "execute_result"
    }
   ],
   "source": [
    "a, b, c"
   ]
  },
  {
   "cell_type": "code",
   "execution_count": 11,
   "id": "2bd34dd9",
   "metadata": {},
   "outputs": [],
   "source": [
    "(a, b, c) = [1, 2, 3]"
   ]
  },
  {
   "cell_type": "code",
   "execution_count": 12,
   "id": "f989e696",
   "metadata": {},
   "outputs": [
    {
     "data": {
      "text/plain": [
       "(1, 2, 3)"
      ]
     },
     "execution_count": 12,
     "metadata": {},
     "output_type": "execute_result"
    }
   ],
   "source": [
    "a, b, c"
   ]
  },
  {
   "cell_type": "code",
   "execution_count": 1,
   "id": "f042cdb2",
   "metadata": {},
   "outputs": [],
   "source": [
    "a, *b = [1, 2, 3]"
   ]
  },
  {
   "cell_type": "code",
   "execution_count": 2,
   "id": "2d99b8f7",
   "metadata": {},
   "outputs": [
    {
     "data": {
      "text/plain": [
       "1"
      ]
     },
     "execution_count": 2,
     "metadata": {},
     "output_type": "execute_result"
    }
   ],
   "source": [
    "a"
   ]
  },
  {
   "cell_type": "code",
   "execution_count": 3,
   "id": "02062cc1",
   "metadata": {},
   "outputs": [
    {
     "data": {
      "text/plain": [
       "[2, 3]"
      ]
     },
     "execution_count": 3,
     "metadata": {},
     "output_type": "execute_result"
    }
   ],
   "source": [
    "b"
   ]
  },
  {
   "cell_type": "code",
   "execution_count": 4,
   "id": "2a84fb0f",
   "metadata": {},
   "outputs": [],
   "source": [
    "a = 'abc'\n",
    "b = 'cde'"
   ]
  },
  {
   "cell_type": "code",
   "execution_count": 6,
   "id": "6abb6d58",
   "metadata": {},
   "outputs": [
    {
     "data": {
      "text/plain": [
       "['a', 'b', 'c', 'c', 'd', 'e']"
      ]
     },
     "execution_count": 6,
     "metadata": {},
     "output_type": "execute_result"
    }
   ],
   "source": [
    "l1 = [*a, *b]\n",
    "l1"
   ]
  },
  {
   "cell_type": "code",
   "execution_count": 7,
   "id": "4e104ae4",
   "metadata": {},
   "outputs": [
    {
     "data": {
      "text/plain": [
       "{'a', 'b', 'c', 'd', 'e'}"
      ]
     },
     "execution_count": 7,
     "metadata": {},
     "output_type": "execute_result"
    }
   ],
   "source": [
    "s1 = {*a, *b}\n",
    "s1"
   ]
  },
  {
   "cell_type": "markdown",
   "id": "d9956c02",
   "metadata": {},
   "source": [
    "## [ ! ]"
   ]
  },
  {
   "cell_type": "code",
   "execution_count": 15,
   "id": "16f217d7",
   "metadata": {},
   "outputs": [],
   "source": [
    "a, *b, (c, d, *e) = [1, 2, 3,'python']"
   ]
  },
  {
   "cell_type": "code",
   "execution_count": 16,
   "id": "daed1de7",
   "metadata": {},
   "outputs": [
    {
     "data": {
      "text/plain": [
       "1"
      ]
     },
     "execution_count": 16,
     "metadata": {},
     "output_type": "execute_result"
    }
   ],
   "source": [
    "a"
   ]
  },
  {
   "cell_type": "code",
   "execution_count": 17,
   "id": "1dffc61d",
   "metadata": {},
   "outputs": [
    {
     "data": {
      "text/plain": [
       "[2, 3]"
      ]
     },
     "execution_count": 17,
     "metadata": {},
     "output_type": "execute_result"
    }
   ],
   "source": [
    "b"
   ]
  },
  {
   "cell_type": "code",
   "execution_count": 18,
   "id": "b861e30a",
   "metadata": {},
   "outputs": [
    {
     "data": {
      "text/plain": [
       "'p'"
      ]
     },
     "execution_count": 18,
     "metadata": {},
     "output_type": "execute_result"
    }
   ],
   "source": [
    "c"
   ]
  },
  {
   "cell_type": "code",
   "execution_count": 19,
   "id": "e79302aa",
   "metadata": {},
   "outputs": [
    {
     "data": {
      "text/plain": [
       "'y'"
      ]
     },
     "execution_count": 19,
     "metadata": {},
     "output_type": "execute_result"
    }
   ],
   "source": [
    "d"
   ]
  },
  {
   "cell_type": "code",
   "execution_count": 20,
   "id": "3c481b10",
   "metadata": {
    "scrolled": false
   },
   "outputs": [
    {
     "data": {
      "text/plain": [
       "['t', 'h', 'o', 'n']"
      ]
     },
     "execution_count": 20,
     "metadata": {},
     "output_type": "execute_result"
    }
   ],
   "source": [
    "e"
   ]
  },
  {
   "cell_type": "markdown",
   "id": "43350a72",
   "metadata": {},
   "source": [
    "# *args"
   ]
  },
  {
   "cell_type": "code",
   "execution_count": 21,
   "id": "1d373e22",
   "metadata": {},
   "outputs": [],
   "source": [
    "def my_func(a, b, *args):\n",
    "    print(a)\n",
    "    print(b)\n",
    "    print(args)"
   ]
  },
  {
   "cell_type": "code",
   "execution_count": 24,
   "id": "77e2c286",
   "metadata": {},
   "outputs": [
    {
     "name": "stdout",
     "output_type": "stream",
     "text": [
      "1\n",
      "2\n",
      "('a', 'b', 'c')\n"
     ]
    }
   ],
   "source": [
    "my_func(1, 2, 'a', 'b', 'c')"
   ]
  },
  {
   "cell_type": "code",
   "execution_count": 27,
   "id": "f3a1160b",
   "metadata": {},
   "outputs": [],
   "source": [
    "def avg(*args):\n",
    "    count = len(args)\n",
    "    total = sum(args)\n",
    "    return count and total/count"
   ]
  },
  {
   "cell_type": "code",
   "execution_count": 28,
   "id": "77b77949",
   "metadata": {},
   "outputs": [
    {
     "data": {
      "text/plain": [
       "0"
      ]
     },
     "execution_count": 28,
     "metadata": {},
     "output_type": "execute_result"
    }
   ],
   "source": [
    "avg()"
   ]
  },
  {
   "cell_type": "code",
   "execution_count": 29,
   "id": "ab1737cb",
   "metadata": {},
   "outputs": [
    {
     "data": {
      "text/plain": [
       "3.0"
      ]
     },
     "execution_count": 29,
     "metadata": {},
     "output_type": "execute_result"
    }
   ],
   "source": [
    "avg(5, 1)"
   ]
  },
  {
   "cell_type": "markdown",
   "id": "64b3d824",
   "metadata": {},
   "source": [
    "# Keyword Arguments"
   ]
  },
  {
   "cell_type": "code",
   "execution_count": 3,
   "id": "51c5499b",
   "metadata": {},
   "outputs": [],
   "source": [
    "def func(a, b, c):\n",
    "    print(a, b, c)"
   ]
  },
  {
   "cell_type": "code",
   "execution_count": 7,
   "id": "4029b03e",
   "metadata": {},
   "outputs": [
    {
     "name": "stdout",
     "output_type": "stream",
     "text": [
      "1 2 3\n",
      "1 3 2\n"
     ]
    }
   ],
   "source": [
    "func(1, 2, 3)\n",
    "func(1, c=2, b=3) # Po `keyword argmuent` obowiązkowo mają być `keyword argument`"
   ]
  },
  {
   "cell_type": "code",
   "execution_count": 8,
   "id": "7ca84f25",
   "metadata": {},
   "outputs": [
    {
     "ename": "SyntaxError",
     "evalue": "positional argument follows keyword argument (3873748574.py, line 1)",
     "output_type": "error",
     "traceback": [
      "\u001b[0;36m  Cell \u001b[0;32mIn[8], line 1\u001b[0;36m\u001b[0m\n\u001b[0;31m    func(1, b=2, 3)\u001b[0m\n\u001b[0m                  ^\u001b[0m\n\u001b[0;31mSyntaxError\u001b[0m\u001b[0;31m:\u001b[0m positional argument follows keyword argument\n"
     ]
    }
   ],
   "source": [
    "func(1, b=2, 3)"
   ]
  },
  {
   "cell_type": "code",
   "execution_count": 9,
   "id": "5b74734c",
   "metadata": {},
   "outputs": [
    {
     "name": "stdout",
     "output_type": "stream",
     "text": [
      "1 2 3\n"
     ]
    }
   ],
   "source": [
    "func(c=3, b=2, a=1)"
   ]
  },
  {
   "cell_type": "markdown",
   "id": "2a140fcf",
   "metadata": {},
   "source": [
    "---"
   ]
  },
  {
   "cell_type": "code",
   "execution_count": 10,
   "id": "db570759",
   "metadata": {},
   "outputs": [],
   "source": [
    "def func(a, b, *args, d):\n",
    "    print(a, b, args, d)"
   ]
  },
  {
   "cell_type": "code",
   "execution_count": 11,
   "id": "13488e8a",
   "metadata": {},
   "outputs": [
    {
     "ename": "TypeError",
     "evalue": "func() missing 1 required keyword-only argument: 'd'",
     "output_type": "error",
     "traceback": [
      "\u001b[0;31m---------------------------------------------------------------------------\u001b[0m",
      "\u001b[0;31mTypeError\u001b[0m                                 Traceback (most recent call last)",
      "Cell \u001b[0;32mIn[11], line 1\u001b[0m\n\u001b[0;32m----> 1\u001b[0m \u001b[43mfunc\u001b[49m\u001b[43m(\u001b[49m\u001b[38;5;241;43m1\u001b[39;49m\u001b[43m,\u001b[49m\u001b[43m \u001b[49m\u001b[38;5;241;43m2\u001b[39;49m\u001b[43m,\u001b[49m\u001b[43m \u001b[49m\u001b[38;5;241;43m3\u001b[39;49m\u001b[43m,\u001b[49m\u001b[43m \u001b[49m\u001b[38;5;241;43m4\u001b[39;49m\u001b[43m,\u001b[49m\u001b[43m \u001b[49m\u001b[38;5;241;43m5\u001b[39;49m\u001b[43m)\u001b[49m\n",
      "\u001b[0;31mTypeError\u001b[0m: func() missing 1 required keyword-only argument: 'd'"
     ]
    }
   ],
   "source": [
    "func(1, 2, 3, 4, 5)"
   ]
  },
  {
   "cell_type": "code",
   "execution_count": 17,
   "id": "eda2bf28",
   "metadata": {},
   "outputs": [
    {
     "name": "stdout",
     "output_type": "stream",
     "text": [
      "1 2 (3, 4) 5\n"
     ]
    }
   ],
   "source": [
    "#    a  b  -arg-  d\n",
    "func(1, 2, 3, 4, d=5)"
   ]
  },
  {
   "cell_type": "code",
   "execution_count": 18,
   "id": "4d5c0cc8",
   "metadata": {},
   "outputs": [
    {
     "name": "stdout",
     "output_type": "stream",
     "text": [
      "1 2 (3, 4, 5, 6, 7) 8\n"
     ]
    }
   ],
   "source": [
    "#    a  b  -----args----   d\n",
    "func(1, 2, 3, 4, 5, 6, 7, d=8)"
   ]
  },
  {
   "cell_type": "markdown",
   "id": "dac67bec",
   "metadata": {},
   "source": [
    "# **kwargs"
   ]
  },
  {
   "cell_type": "code",
   "execution_count": 21,
   "id": "d0b365bd",
   "metadata": {},
   "outputs": [],
   "source": [
    "# args i kwargs NIE jest obowiązkową nazwa zmiennych, tylko ustaloną przez społeczeństwo Pythona\n",
    "def func(*args, **kwargs):\n",
    "    print(args)\n",
    "    print(kwargs)"
   ]
  },
  {
   "cell_type": "code",
   "execution_count": 22,
   "id": "667d3df3",
   "metadata": {},
   "outputs": [
    {
     "name": "stdout",
     "output_type": "stream",
     "text": [
      "(1, 2)\n",
      "{'a': 3, 'b': 4}\n"
     ]
    }
   ],
   "source": [
    "func(1, 2, a=3, b=4)"
   ]
  },
  {
   "cell_type": "markdown",
   "id": "9a934c32",
   "metadata": {},
   "source": [
    "---"
   ]
  },
  {
   "cell_type": "code",
   "execution_count": 23,
   "id": "8e0a82ab",
   "metadata": {},
   "outputs": [],
   "source": [
    "# Gwiazdka `*` oznacza koniec `positional argument`\n",
    "#   positional |  keyword\n",
    "def func(a, b, *, d):\n",
    "    print(a, b, d)"
   ]
  },
  {
   "cell_type": "code",
   "execution_count": 27,
   "id": "cee8d283",
   "metadata": {},
   "outputs": [
    {
     "name": "stdout",
     "output_type": "stream",
     "text": [
      "1 2 3\n"
     ]
    }
   ],
   "source": [
    "func(1, 2 ,d=3)"
   ]
  },
  {
   "cell_type": "code",
   "execution_count": 28,
   "id": "3cbf1a21",
   "metadata": {},
   "outputs": [
    {
     "ename": "TypeError",
     "evalue": "func() takes 2 positional arguments but 3 were given",
     "output_type": "error",
     "traceback": [
      "\u001b[0;31m---------------------------------------------------------------------------\u001b[0m",
      "\u001b[0;31mTypeError\u001b[0m                                 Traceback (most recent call last)",
      "Cell \u001b[0;32mIn[28], line 1\u001b[0m\n\u001b[0;32m----> 1\u001b[0m \u001b[43mfunc\u001b[49m\u001b[43m(\u001b[49m\u001b[38;5;241;43m1\u001b[39;49m\u001b[43m,\u001b[49m\u001b[43m \u001b[49m\u001b[38;5;241;43m2\u001b[39;49m\u001b[43m,\u001b[49m\u001b[43m \u001b[49m\u001b[38;5;241;43m3\u001b[39;49m\u001b[43m)\u001b[49m\n",
      "\u001b[0;31mTypeError\u001b[0m: func() takes 2 positional arguments but 3 were given"
     ]
    }
   ],
   "source": [
    "func(1, 2, 3)"
   ]
  },
  {
   "cell_type": "markdown",
   "id": "c005f012",
   "metadata": {},
   "source": [
    "---"
   ]
  },
  {
   "cell_type": "code",
   "execution_count": 35,
   "id": "77219148",
   "metadata": {},
   "outputs": [
    {
     "name": "stdout",
     "output_type": "stream",
     "text": [
      "Hello-world-!:-)"
     ]
    }
   ],
   "source": [
    "# Typowy przykład używania *args i **kwargs\n",
    "\n",
    "#     --------*args--------  -----Pozostałe----\n",
    "print('Hello', 'world', '!', sep='-', end=':-)')"
   ]
  },
  {
   "cell_type": "markdown",
   "id": "99b1b914",
   "metadata": {},
   "source": [
    "---"
   ]
  },
  {
   "cell_type": "code",
   "execution_count": 40,
   "id": "ea217c98",
   "metadata": {},
   "outputs": [],
   "source": [
    "def func(a, b, *args, c=10, d=20, **kwargs):\n",
    "    print(a, b, args, c, d, kwargs)"
   ]
  },
  {
   "cell_type": "code",
   "execution_count": 41,
   "id": "d5f89476",
   "metadata": {},
   "outputs": [
    {
     "name": "stdout",
     "output_type": "stream",
     "text": [
      "1 2 ('x', 'y', 'z') 10 20 {'x': 0.1, 'y': 0.2}\n"
     ]
    }
   ],
   "source": [
    "#    a  b  -----args----  ---kwargs---\n",
    "func(1, 2, 'x', 'y', 'z', x=0.1, y=0.2)"
   ]
  },
  {
   "cell_type": "code",
   "execution_count": 42,
   "id": "4d211701",
   "metadata": {},
   "outputs": [
    {
     "name": "stdout",
     "output_type": "stream",
     "text": [
      "1 2 ('x', 'y', 'z') 100 200 {'x': 0.1, 'y': 0.2}\n"
     ]
    }
   ],
   "source": [
    "#    a  b  ----args----     c      d    ----kwargs---\n",
    "func(1, 2, 'x', 'y', 'z', c=100, d=200, x=0.1, y=0.2)"
   ]
  },
  {
   "cell_type": "markdown",
   "id": "4f5004c6",
   "metadata": {},
   "source": [
    "---"
   ]
  },
  {
   "cell_type": "markdown",
   "id": "d2f659ed",
   "metadata": {},
   "source": [
    "# [ ! ] Issues [ ! ]"
   ]
  },
  {
   "cell_type": "code",
   "execution_count": 5,
   "id": "3ee1c0a3",
   "metadata": {},
   "outputs": [],
   "source": [
    "from datetime import datetime\n",
    "\n",
    "def log(mes, *, dt=datetime.utcnow()):\n",
    "    print('{}: {}'.format(dt, mes))  "
   ]
  },
  {
   "cell_type": "code",
   "execution_count": 8,
   "id": "2e8c3be0",
   "metadata": {},
   "outputs": [
    {
     "name": "stdout",
     "output_type": "stream",
     "text": [
      "2023-04-12 07:49:55.525362: message 1\n"
     ]
    }
   ],
   "source": [
    "log('message 1')"
   ]
  },
  {
   "cell_type": "code",
   "execution_count": 7,
   "id": "9ae96e15",
   "metadata": {},
   "outputs": [
    {
     "name": "stdout",
     "output_type": "stream",
     "text": [
      "2023-04-12 07:49:55.525362: message 2\n"
     ]
    }
   ],
   "source": [
    "log('message 2')"
   ]
  },
  {
   "cell_type": "markdown",
   "id": "fa8baf62",
   "metadata": {},
   "source": [
    "### Czas jest IDENTYCZNY"
   ]
  },
  {
   "cell_type": "code",
   "execution_count": 9,
   "id": "75b2bd78",
   "metadata": {},
   "outputs": [],
   "source": [
    "def log(mes, *, dt=None):\n",
    "    dt = dt or datetime.utcnow()\n",
    "    print('{}: {}'.format(dt, mes))"
   ]
  },
  {
   "cell_type": "code",
   "execution_count": 10,
   "id": "ddbe8436",
   "metadata": {},
   "outputs": [
    {
     "name": "stdout",
     "output_type": "stream",
     "text": [
      "2023-04-12 07:51:03.956440: message 1\n"
     ]
    }
   ],
   "source": [
    "log('message 1')"
   ]
  },
  {
   "cell_type": "code",
   "execution_count": 11,
   "id": "3f817179",
   "metadata": {},
   "outputs": [
    {
     "name": "stdout",
     "output_type": "stream",
     "text": [
      "2023-04-12 07:51:05.819295: message 2\n"
     ]
    }
   ],
   "source": [
    "log('message 2')"
   ]
  },
  {
   "cell_type": "markdown",
   "id": "f06d0157",
   "metadata": {},
   "source": [
    "### Naprawione 😁"
   ]
  },
  {
   "cell_type": "markdown",
   "id": "66443714",
   "metadata": {},
   "source": [
    "## [ ! ] Trzeba uważać na używanie `mutable` objektów jako domyślną wartość parametru"
   ]
  },
  {
   "cell_type": "markdown",
   "id": "9419d813",
   "metadata": {},
   "source": [
    "# Jeszcze"
   ]
  },
  {
   "cell_type": "code",
   "execution_count": 21,
   "id": "6bb21118",
   "metadata": {},
   "outputs": [],
   "source": [
    "# TU tworzy się `mutable` objekt (lista g_list) i potem jest modyfikowana\n",
    "def add_item(item, count, units, g_list=[]):\n",
    "    g_list.append(f'{item} ({count}, {units})')\n",
    "    return g_list"
   ]
  },
  {
   "cell_type": "code",
   "execution_count": 22,
   "id": "7b12c112",
   "metadata": {},
   "outputs": [],
   "source": [
    "store1 = add_item('banana', 2, 'units')"
   ]
  },
  {
   "cell_type": "code",
   "execution_count": 23,
   "id": "41975fef",
   "metadata": {},
   "outputs": [
    {
     "data": {
      "text/plain": [
       "['banana (2, units)', 'milk (1, liters)']"
      ]
     },
     "execution_count": 23,
     "metadata": {},
     "output_type": "execute_result"
    }
   ],
   "source": [
    "add_item('milk', 1, 'liters', store1)"
   ]
  },
  {
   "cell_type": "code",
   "execution_count": 24,
   "id": "e7a374a8",
   "metadata": {},
   "outputs": [],
   "source": [
    "store2 = add_item('python', 3, 'medium-rare')"
   ]
  },
  {
   "cell_type": "code",
   "execution_count": 25,
   "id": "050aa99a",
   "metadata": {},
   "outputs": [
    {
     "data": {
      "text/plain": [
       "['banana (2, units)', 'milk (1, liters)', 'python (3, medium-rare)']"
      ]
     },
     "execution_count": 25,
     "metadata": {},
     "output_type": "execute_result"
    }
   ],
   "source": [
    "store2"
   ]
  },
  {
   "cell_type": "code",
   "execution_count": 26,
   "id": "2731fb27",
   "metadata": {},
   "outputs": [
    {
     "data": {
      "text/plain": [
       "['banana (2, units)', 'milk (1, liters)', 'python (3, medium-rare)']"
      ]
     },
     "execution_count": 26,
     "metadata": {},
     "output_type": "execute_result"
    }
   ],
   "source": [
    "store1"
   ]
  },
  {
   "cell_type": "markdown",
   "id": "e4a28d91",
   "metadata": {},
   "source": [
    "### To można narpawić w identyczny sposób z 1 przypadku"
   ]
  },
  {
   "cell_type": "code",
   "execution_count": null,
   "id": "86995bca",
   "metadata": {},
   "outputs": [],
   "source": []
  }
 ],
 "metadata": {
  "kernelspec": {
   "display_name": "Python 3 (ipykernel)",
   "language": "python",
   "name": "python3"
  },
  "language_info": {
   "codemirror_mode": {
    "name": "ipython",
    "version": 3
   },
   "file_extension": ".py",
   "mimetype": "text/x-python",
   "name": "python",
   "nbconvert_exporter": "python",
   "pygments_lexer": "ipython3",
   "version": "3.10.8"
  }
 },
 "nbformat": 4,
 "nbformat_minor": 5
}
