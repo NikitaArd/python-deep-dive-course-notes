{
 "cells": [
  {
   "cell_type": "markdown",
   "id": "534b1c13",
   "metadata": {},
   "source": [
    "## Spis treści\n",
    " - [Scopes](#Scopes,-Closures-and-Decorators)\n",
    " - [Nonlocal zasięg](#Nonlocal-scope)\n",
    " - [Domknięcia](#Closures)\n",
    " - [Dekoratory](#Decorators)\n",
    " - [Dokumentacja dekoratorów](#Dokumentacja-Dekoratorów)\n",
    " - - [Jak to naprawić ?](#Jak-to-narpawić-?)\n",
    " - [Lub używając funkcji / dekoratoru wraps z functools](#Lub-używając-funkcji-/-dekoratoru-wraps-z-functools)\n",
    " - [Mamoizacja](#Memoization)\n",
    " - [Built-in narzędzie do memoizacji](#Built-in-narzędzie-do-memoizacji)\n",
    " - [Dekoratory z parametrami](#Dekoratory-z-parametrami)\n",
    " - [Dekorator jako klasa](#[-!-]-Dekorator-jako-klasa)\n",
    " - [Dekorowanie klas](#Dekorowanie-klas)"
   ]
  },
  {
   "cell_type": "markdown",
   "id": "9a1e752f",
   "metadata": {},
   "source": [
    "# Scopes, Closures and Decorators"
   ]
  },
  {
   "cell_type": "code",
   "execution_count": 1,
   "id": "25d1567d",
   "metadata": {},
   "outputs": [],
   "source": [
    "a = 10"
   ]
  },
  {
   "cell_type": "code",
   "execution_count": 2,
   "id": "3d3d4abb",
   "metadata": {},
   "outputs": [],
   "source": [
    "def my_func():\n",
    "    print(a) # Używa zmiennej z Global Scope, ale podczas kompilacji zmienna `a` jest w Local Scope\n",
    "    a = 'Hello world' #  |\n",
    "    print(a) #        <--|"
   ]
  },
  {
   "cell_type": "code",
   "execution_count": 3,
   "id": "7a326cdf",
   "metadata": {},
   "outputs": [
    {
     "ename": "UnboundLocalError",
     "evalue": "local variable 'a' referenced before assignment",
     "output_type": "error",
     "traceback": [
      "\u001b[0;31m---------------------------------------------------------------------------\u001b[0m",
      "\u001b[0;31mUnboundLocalError\u001b[0m                         Traceback (most recent call last)",
      "Cell \u001b[0;32mIn[3], line 1\u001b[0m\n\u001b[0;32m----> 1\u001b[0m \u001b[43mmy_func\u001b[49m\u001b[43m(\u001b[49m\u001b[43m)\u001b[49m\n",
      "Cell \u001b[0;32mIn[2], line 2\u001b[0m, in \u001b[0;36mmy_func\u001b[0;34m()\u001b[0m\n\u001b[1;32m      1\u001b[0m \u001b[38;5;28;01mdef\u001b[39;00m \u001b[38;5;21mmy_func\u001b[39m():\n\u001b[0;32m----> 2\u001b[0m     \u001b[38;5;28mprint\u001b[39m(\u001b[43ma\u001b[49m)\n\u001b[1;32m      3\u001b[0m     a \u001b[38;5;241m=\u001b[39m \u001b[38;5;124m'\u001b[39m\u001b[38;5;124mHello world\u001b[39m\u001b[38;5;124m'\u001b[39m\n\u001b[1;32m      4\u001b[0m     \u001b[38;5;28mprint\u001b[39m(a)\n",
      "\u001b[0;31mUnboundLocalError\u001b[0m: local variable 'a' referenced before assignment"
     ]
    }
   ],
   "source": [
    "my_func()"
   ]
  },
  {
   "cell_type": "markdown",
   "id": "0e29fde3",
   "metadata": {},
   "source": [
    "---"
   ]
  },
  {
   "cell_type": "code",
   "execution_count": 4,
   "id": "acf185fa",
   "metadata": {},
   "outputs": [],
   "source": [
    "b = 10"
   ]
  },
  {
   "cell_type": "code",
   "execution_count": 5,
   "id": "58e3c1be",
   "metadata": {},
   "outputs": [],
   "source": [
    "def my_func2():\n",
    "    print(b) # Używa zmiennej z Global Scope"
   ]
  },
  {
   "cell_type": "code",
   "execution_count": 6,
   "id": "59d84b64",
   "metadata": {},
   "outputs": [
    {
     "name": "stdout",
     "output_type": "stream",
     "text": [
      "10\n"
     ]
    }
   ],
   "source": [
    "my_func2()"
   ]
  },
  {
   "cell_type": "markdown",
   "id": "04a41aa5",
   "metadata": {},
   "source": [
    "# Nonlocal scope"
   ]
  },
  {
   "cell_type": "code",
   "execution_count": 7,
   "id": "136aa3d7",
   "metadata": {},
   "outputs": [],
   "source": [
    "a = 10 # Global Scope"
   ]
  },
  {
   "cell_type": "code",
   "execution_count": 8,
   "id": "0c7e60d6",
   "metadata": {},
   "outputs": [],
   "source": [
    "def my_func():\n",
    "    \n",
    "    def inner_func():\n",
    "        print(a) # Szuka w Local Scope (inner_func) -> Local Scope (my_func) -> Global Scope\n",
    "        \n",
    "    inner_func()"
   ]
  },
  {
   "cell_type": "code",
   "execution_count": 12,
   "id": "5cbb637b",
   "metadata": {},
   "outputs": [
    {
     "name": "stdout",
     "output_type": "stream",
     "text": [
      "20\n"
     ]
    }
   ],
   "source": [
    "my_func()"
   ]
  },
  {
   "cell_type": "code",
   "execution_count": 13,
   "id": "ceda0686",
   "metadata": {},
   "outputs": [],
   "source": [
    "a = 10"
   ]
  },
  {
   "cell_type": "code",
   "execution_count": 14,
   "id": "3e60f837",
   "metadata": {},
   "outputs": [],
   "source": [
    "def my_func():\n",
    "    \n",
    "    a = 20 \n",
    "    \n",
    "    def inner_func():\n",
    "        print(a) # Szuka w Local Scope (inner_func) -> Local Scope (my_func)\n",
    "        \n",
    "    inner_func()"
   ]
  },
  {
   "cell_type": "code",
   "execution_count": 15,
   "id": "a1c7d620",
   "metadata": {},
   "outputs": [
    {
     "name": "stdout",
     "output_type": "stream",
     "text": [
      "20\n"
     ]
    }
   ],
   "source": [
    "my_func()"
   ]
  },
  {
   "cell_type": "markdown",
   "id": "3a9d2ea4",
   "metadata": {},
   "source": [
    "# Closures"
   ]
  },
  {
   "cell_type": "code",
   "execution_count": 1,
   "id": "ac4cdf9a",
   "metadata": {},
   "outputs": [],
   "source": [
    "def outer():\n",
    "    x = 'python'\n",
    "    print(hex(id(x)))\n",
    "    def inner():\n",
    "        x = 'python'\n",
    "        print(hex(id(x)))\n",
    "        \n",
    "    return inner"
   ]
  },
  {
   "cell_type": "code",
   "execution_count": 2,
   "id": "03bffeea",
   "metadata": {},
   "outputs": [
    {
     "name": "stdout",
     "output_type": "stream",
     "text": [
      "0x10c8a51b0\n"
     ]
    }
   ],
   "source": [
    "f = outer()"
   ]
  },
  {
   "cell_type": "code",
   "execution_count": 3,
   "id": "7c7fc83b",
   "metadata": {},
   "outputs": [
    {
     "name": "stdout",
     "output_type": "stream",
     "text": [
      "0x10c8a51b0\n"
     ]
    }
   ],
   "source": [
    "f()"
   ]
  },
  {
   "cell_type": "markdown",
   "id": "54cfc2a6",
   "metadata": {},
   "source": [
    "---"
   ]
  },
  {
   "cell_type": "code",
   "execution_count": 7,
   "id": "5541b6ce",
   "metadata": {},
   "outputs": [],
   "source": [
    "def outer():\n",
    "    x = [1, 2, 3]\n",
    "    print(hex(id(x)))\n",
    "    def inner():\n",
    "        x = [1, 2, 3]\n",
    "        print(hex(id(x)))\n",
    "        \n",
    "    return inner"
   ]
  },
  {
   "cell_type": "code",
   "execution_count": 8,
   "id": "f4aa3d19",
   "metadata": {},
   "outputs": [
    {
     "name": "stdout",
     "output_type": "stream",
     "text": [
      "0x10f0c0ac0\n"
     ]
    }
   ],
   "source": [
    "f = outer()"
   ]
  },
  {
   "cell_type": "code",
   "execution_count": 9,
   "id": "051ea2cc",
   "metadata": {},
   "outputs": [
    {
     "name": "stdout",
     "output_type": "stream",
     "text": [
      "0x10f0645c0\n"
     ]
    }
   ],
   "source": [
    "f()"
   ]
  },
  {
   "cell_type": "markdown",
   "id": "fc128ab2",
   "metadata": {},
   "source": [
    "---"
   ]
  },
  {
   "cell_type": "markdown",
   "id": "7f1d0115",
   "metadata": {},
   "source": [
    "# Decorators"
   ]
  },
  {
   "cell_type": "markdown",
   "id": "2c42f341",
   "metadata": {},
   "source": [
    "### Jak działa dekorator"
   ]
  },
  {
   "cell_type": "code",
   "execution_count": 12,
   "id": "81ec7fca",
   "metadata": {},
   "outputs": [],
   "source": [
    "def counter(fn):\n",
    "    count = 0\n",
    "    \n",
    "    def inner(*args, **kwargs):\n",
    "        nonlocal count\n",
    "        count += 1\n",
    "        print(f'Function {fn.__name__} was called {count} times')\n",
    "        \n",
    "        return fn(*args, **kwargs)\n",
    "    \n",
    "    return inner"
   ]
  },
  {
   "cell_type": "code",
   "execution_count": 13,
   "id": "aa5a7c35",
   "metadata": {},
   "outputs": [],
   "source": [
    "def add(a, b):\n",
    "    return a + b"
   ]
  },
  {
   "cell_type": "code",
   "execution_count": 14,
   "id": "df803322",
   "metadata": {},
   "outputs": [
    {
     "data": {
      "text/plain": [
       "4"
      ]
     },
     "execution_count": 14,
     "metadata": {},
     "output_type": "execute_result"
    }
   ],
   "source": [
    "add(1, 3)"
   ]
  },
  {
   "cell_type": "code",
   "execution_count": 15,
   "id": "1602ec57",
   "metadata": {},
   "outputs": [],
   "source": [
    "add = counter(add) # Tworzymy tą samą funkcje tylko z dodatkowymi możliwościami"
   ]
  },
  {
   "cell_type": "code",
   "execution_count": 16,
   "id": "f1bae86c",
   "metadata": {},
   "outputs": [
    {
     "name": "stdout",
     "output_type": "stream",
     "text": [
      "Function add was called 1 times\n"
     ]
    },
    {
     "data": {
      "text/plain": [
       "4"
      ]
     },
     "execution_count": 16,
     "metadata": {},
     "output_type": "execute_result"
    }
   ],
   "source": [
    "add(1, 3)"
   ]
  },
  {
   "cell_type": "code",
   "execution_count": 17,
   "id": "974ac7bb",
   "metadata": {},
   "outputs": [
    {
     "name": "stdout",
     "output_type": "stream",
     "text": [
      "Function add was called 2 times\n"
     ]
    },
    {
     "data": {
      "text/plain": [
       "4"
      ]
     },
     "execution_count": 17,
     "metadata": {},
     "output_type": "execute_result"
    }
   ],
   "source": [
    "add(1, 3)"
   ]
  },
  {
   "cell_type": "code",
   "execution_count": 18,
   "id": "49b37a78",
   "metadata": {},
   "outputs": [
    {
     "name": "stdout",
     "output_type": "stream",
     "text": [
      "Function add was called 3 times\n"
     ]
    },
    {
     "data": {
      "text/plain": [
       "4"
      ]
     },
     "execution_count": 18,
     "metadata": {},
     "output_type": "execute_result"
    }
   ],
   "source": [
    "add(1, 3)"
   ]
  },
  {
   "cell_type": "markdown",
   "id": "22cba389",
   "metadata": {},
   "source": [
    "---"
   ]
  },
  {
   "cell_type": "markdown",
   "id": "e60cdbfa",
   "metadata": {},
   "source": [
    "## Dokumentacja Dekoratorów"
   ]
  },
  {
   "cell_type": "code",
   "execution_count": 30,
   "id": "53b01888",
   "metadata": {},
   "outputs": [],
   "source": [
    "# Tworzymy dekorator\n",
    "def counter(fn):\n",
    "    count = 0\n",
    "    \n",
    "    def inner(*args, **kwargs):\n",
    "        \"\"\"\n",
    "        Inner function of decorator\n",
    "        \"\"\"\n",
    "        nonlocal count\n",
    "        count += 1\n",
    "        print(f'Function {fn.__name__} was called {count} times')\n",
    "        \n",
    "        return fn(*args, **kwargs)\n",
    "    \n",
    "    return inner"
   ]
  },
  {
   "cell_type": "code",
   "execution_count": 31,
   "id": "6a0985b9",
   "metadata": {},
   "outputs": [],
   "source": [
    "def mult(a: int, b: int) -> int:\n",
    "    return a * b"
   ]
  },
  {
   "cell_type": "code",
   "execution_count": 32,
   "id": "c2352a9e",
   "metadata": {},
   "outputs": [
    {
     "name": "stdout",
     "output_type": "stream",
     "text": [
      "Help on function mult in module __main__:\n",
      "\n",
      "mult(a: int, b: int) -> int\n",
      "\n"
     ]
    }
   ],
   "source": [
    "help(mult)"
   ]
  },
  {
   "cell_type": "code",
   "execution_count": 33,
   "id": "0acaf739",
   "metadata": {},
   "outputs": [],
   "source": [
    "@counter # Bo `counter` zwraca `inner`\n",
    "def mult(a: int, b: int) -> int:\n",
    "    return a * b"
   ]
  },
  {
   "cell_type": "code",
   "execution_count": 34,
   "id": "f2a39824",
   "metadata": {},
   "outputs": [
    {
     "name": "stdout",
     "output_type": "stream",
     "text": [
      "Help on function inner in module __main__:\n",
      "\n",
      "inner(*args, **kwargs)\n",
      "    Inner function of decorator\n",
      "\n"
     ]
    }
   ],
   "source": [
    "help(mult)"
   ]
  },
  {
   "cell_type": "markdown",
   "id": "2b9e305e",
   "metadata": {},
   "source": [
    "## Jak to narpawić ?"
   ]
  },
  {
   "cell_type": "code",
   "execution_count": 35,
   "id": "81eacead",
   "metadata": {},
   "outputs": [],
   "source": [
    "# Tworzymy dekorator\n",
    "def counter(fn):\n",
    "    count = 0\n",
    "    \n",
    "    def inner(*args, **kwargs):\n",
    "        \"\"\"\n",
    "        Inner function of decorator\n",
    "        \"\"\"\n",
    "        nonlocal count\n",
    "        count += 1\n",
    "        print(f'Function {fn.__name__} was called {count} times')\n",
    "        \n",
    "        return fn(*args, **kwargs)\n",
    "    \n",
    "    inner.__name__ = fn.__name__\n",
    "    inner.__doc__ = fn.__doc__\n",
    "    \n",
    "    return inner"
   ]
  },
  {
   "cell_type": "code",
   "execution_count": 36,
   "id": "a19a01e3",
   "metadata": {},
   "outputs": [],
   "source": [
    "def mult(a: int, b: int) -> int:\n",
    "    return a * b"
   ]
  },
  {
   "cell_type": "code",
   "execution_count": 37,
   "id": "86006a08",
   "metadata": {},
   "outputs": [
    {
     "name": "stdout",
     "output_type": "stream",
     "text": [
      "Help on function mult in module __main__:\n",
      "\n",
      "mult(a: int, b: int) -> int\n",
      "\n"
     ]
    }
   ],
   "source": [
    "help(mult)"
   ]
  },
  {
   "cell_type": "code",
   "execution_count": 38,
   "id": "4b9fb6e1",
   "metadata": {},
   "outputs": [],
   "source": [
    "@counter\n",
    "def mult(a: int, b: int) -> int:\n",
    "    return a * b"
   ]
  },
  {
   "cell_type": "code",
   "execution_count": 39,
   "id": "fd9be0c4",
   "metadata": {},
   "outputs": [
    {
     "name": "stdout",
     "output_type": "stream",
     "text": [
      "Help on function mult in module __main__:\n",
      "\n",
      "mult(*args, **kwargs)\n",
      "\n"
     ]
    }
   ],
   "source": [
    "help(mult)"
   ]
  },
  {
   "cell_type": "markdown",
   "id": "f32c33de",
   "metadata": {},
   "source": [
    "## Lub używając funkcji / dekoratoru `wraps` z `functools`"
   ]
  },
  {
   "cell_type": "code",
   "execution_count": 40,
   "id": "67d4bb70",
   "metadata": {},
   "outputs": [],
   "source": [
    "from functools import wraps"
   ]
  },
  {
   "cell_type": "code",
   "execution_count": 42,
   "id": "3b1bdd34",
   "metadata": {},
   "outputs": [],
   "source": [
    "def counter(fn):\n",
    "    count = 0\n",
    "    \n",
    "    @wraps(fn)\n",
    "    def inner(*args, **kwargs):\n",
    "        \"\"\"\n",
    "        Inner function of decorator\n",
    "        \"\"\"\n",
    "        nonlocal count\n",
    "        count += 1\n",
    "        print(f'Function {fn.__name__} was called {count} times')\n",
    "        \n",
    "        return fn(*args, **kwargs)\n",
    "    \n",
    "    return inner"
   ]
  },
  {
   "cell_type": "code",
   "execution_count": 43,
   "id": "c3f334be",
   "metadata": {},
   "outputs": [],
   "source": [
    "def mult(a: int, b: int) -> int:\n",
    "    return a * b"
   ]
  },
  {
   "cell_type": "code",
   "execution_count": 44,
   "id": "52989491",
   "metadata": {},
   "outputs": [
    {
     "name": "stdout",
     "output_type": "stream",
     "text": [
      "Help on function mult in module __main__:\n",
      "\n",
      "mult(a: int, b: int) -> int\n",
      "\n"
     ]
    }
   ],
   "source": [
    "help(mult)"
   ]
  },
  {
   "cell_type": "code",
   "execution_count": 45,
   "id": "3375fe46",
   "metadata": {},
   "outputs": [],
   "source": [
    "@counter\n",
    "def mult(a: int, b: int) -> int:\n",
    "    return a * b"
   ]
  },
  {
   "cell_type": "code",
   "execution_count": 46,
   "id": "06bb03d5",
   "metadata": {},
   "outputs": [
    {
     "name": "stdout",
     "output_type": "stream",
     "text": [
      "Help on function mult in module __main__:\n",
      "\n",
      "mult(a: int, b: int) -> int\n",
      "\n"
     ]
    }
   ],
   "source": [
    "help(mult)"
   ]
  },
  {
   "cell_type": "markdown",
   "id": "b1bd7832",
   "metadata": {},
   "source": [
    "---"
   ]
  },
  {
   "cell_type": "markdown",
   "id": "f7a4b003",
   "metadata": {},
   "source": [
    "# Memoization "
   ]
  },
  {
   "cell_type": "code",
   "execution_count": 1,
   "id": "4528cff8",
   "metadata": {},
   "outputs": [],
   "source": [
    "# licznik Fibonacci "
   ]
  },
  {
   "cell_type": "code",
   "execution_count": 4,
   "id": "c18871f0",
   "metadata": {},
   "outputs": [],
   "source": [
    "def fib(n):\n",
    "    print('Counting fib for {0}'.format(n))\n",
    "    return 1 if n < 3 else fib(n-1) + fib(n-2)"
   ]
  },
  {
   "cell_type": "code",
   "execution_count": 5,
   "id": "d09befcd",
   "metadata": {},
   "outputs": [
    {
     "name": "stdout",
     "output_type": "stream",
     "text": [
      "Counting fib for 10\n",
      "Counting fib for 9\n",
      "Counting fib for 8\n",
      "Counting fib for 7\n",
      "Counting fib for 6\n",
      "Counting fib for 5\n",
      "Counting fib for 4\n",
      "Counting fib for 3\n",
      "Counting fib for 2\n",
      "Counting fib for 1\n",
      "Counting fib for 2\n",
      "Counting fib for 3\n",
      "Counting fib for 2\n",
      "Counting fib for 1\n",
      "Counting fib for 4\n",
      "Counting fib for 3\n",
      "Counting fib for 2\n",
      "Counting fib for 1\n",
      "Counting fib for 2\n",
      "Counting fib for 5\n",
      "Counting fib for 4\n",
      "Counting fib for 3\n",
      "Counting fib for 2\n",
      "Counting fib for 1\n",
      "Counting fib for 2\n",
      "Counting fib for 3\n",
      "Counting fib for 2\n",
      "Counting fib for 1\n",
      "Counting fib for 6\n",
      "Counting fib for 5\n",
      "Counting fib for 4\n",
      "Counting fib for 3\n",
      "Counting fib for 2\n",
      "Counting fib for 1\n",
      "Counting fib for 2\n",
      "Counting fib for 3\n",
      "Counting fib for 2\n",
      "Counting fib for 1\n",
      "Counting fib for 4\n",
      "Counting fib for 3\n",
      "Counting fib for 2\n",
      "Counting fib for 1\n",
      "Counting fib for 2\n",
      "Counting fib for 7\n",
      "Counting fib for 6\n",
      "Counting fib for 5\n",
      "Counting fib for 4\n",
      "Counting fib for 3\n",
      "Counting fib for 2\n",
      "Counting fib for 1\n",
      "Counting fib for 2\n",
      "Counting fib for 3\n",
      "Counting fib for 2\n",
      "Counting fib for 1\n",
      "Counting fib for 4\n",
      "Counting fib for 3\n",
      "Counting fib for 2\n",
      "Counting fib for 1\n",
      "Counting fib for 2\n",
      "Counting fib for 5\n",
      "Counting fib for 4\n",
      "Counting fib for 3\n",
      "Counting fib for 2\n",
      "Counting fib for 1\n",
      "Counting fib for 2\n",
      "Counting fib for 3\n",
      "Counting fib for 2\n",
      "Counting fib for 1\n",
      "Counting fib for 8\n",
      "Counting fib for 7\n",
      "Counting fib for 6\n",
      "Counting fib for 5\n",
      "Counting fib for 4\n",
      "Counting fib for 3\n",
      "Counting fib for 2\n",
      "Counting fib for 1\n",
      "Counting fib for 2\n",
      "Counting fib for 3\n",
      "Counting fib for 2\n",
      "Counting fib for 1\n",
      "Counting fib for 4\n",
      "Counting fib for 3\n",
      "Counting fib for 2\n",
      "Counting fib for 1\n",
      "Counting fib for 2\n",
      "Counting fib for 5\n",
      "Counting fib for 4\n",
      "Counting fib for 3\n",
      "Counting fib for 2\n",
      "Counting fib for 1\n",
      "Counting fib for 2\n",
      "Counting fib for 3\n",
      "Counting fib for 2\n",
      "Counting fib for 1\n",
      "Counting fib for 6\n",
      "Counting fib for 5\n",
      "Counting fib for 4\n",
      "Counting fib for 3\n",
      "Counting fib for 2\n",
      "Counting fib for 1\n",
      "Counting fib for 2\n",
      "Counting fib for 3\n",
      "Counting fib for 2\n",
      "Counting fib for 1\n",
      "Counting fib for 4\n",
      "Counting fib for 3\n",
      "Counting fib for 2\n",
      "Counting fib for 1\n",
      "Counting fib for 2\n"
     ]
    },
    {
     "data": {
      "text/plain": [
       "55"
      ]
     },
     "execution_count": 5,
     "metadata": {},
     "output_type": "execute_result"
    }
   ],
   "source": [
    "fib(10)"
   ]
  },
  {
   "cell_type": "code",
   "execution_count": 6,
   "id": "36d5a06b",
   "metadata": {},
   "outputs": [],
   "source": [
    "# licznik Fibonacci z cache"
   ]
  },
  {
   "cell_type": "code",
   "execution_count": 10,
   "id": "c2d21a1e",
   "metadata": {},
   "outputs": [],
   "source": [
    "class Fib:\n",
    "    \n",
    "    def __init__(self):\n",
    "        self.cache = {1: 1, 2: 1}\n",
    "        \n",
    "    def fib(self, n):\n",
    "        if n not in self.cache:\n",
    "            print('Calculating fib for {0}'.format(n))\n",
    "            self.cache[n] = self.fib(n-1) + self.fib(n-2)\n",
    "        return self.cache[n]"
   ]
  },
  {
   "cell_type": "code",
   "execution_count": 11,
   "id": "60e4c2a2",
   "metadata": {},
   "outputs": [],
   "source": [
    "f = Fib()"
   ]
  },
  {
   "cell_type": "code",
   "execution_count": 14,
   "id": "e7c97e67",
   "metadata": {},
   "outputs": [
    {
     "data": {
      "text/plain": [
       "55"
      ]
     },
     "execution_count": 14,
     "metadata": {},
     "output_type": "execute_result"
    }
   ],
   "source": [
    "# Jak program widzi że coś jest w `cache`, używa tego, jak nie to liczy i zapisuje do `cache`\n",
    "\n",
    "f.fib(10)"
   ]
  },
  {
   "cell_type": "markdown",
   "id": "55669cbe",
   "metadata": {},
   "source": [
    "### Jak używać cache"
   ]
  },
  {
   "cell_type": "code",
   "execution_count": 32,
   "id": "3b985943",
   "metadata": {},
   "outputs": [],
   "source": [
    "def memoize(fn):\n",
    "    cache = dict()\n",
    "    \n",
    "    def inner(n):\n",
    "        if n not in cache:\n",
    "            cache[n] = fn(n)\n",
    "        return cache[n]\n",
    "    \n",
    "    return inner"
   ]
  },
  {
   "cell_type": "code",
   "execution_count": 18,
   "id": "bb79c7c6",
   "metadata": {},
   "outputs": [],
   "source": [
    "def fib(n):\n",
    "    print('Counting fib for {0}'.format(n))\n",
    "    return 1 if n < 3 else fib(n-1) + fib(n-2)"
   ]
  },
  {
   "cell_type": "code",
   "execution_count": 19,
   "id": "5409ae96",
   "metadata": {},
   "outputs": [
    {
     "name": "stdout",
     "output_type": "stream",
     "text": [
      "Counting fib for 10\n",
      "Counting fib for 9\n",
      "Counting fib for 8\n",
      "Counting fib for 7\n",
      "Counting fib for 6\n",
      "Counting fib for 5\n",
      "Counting fib for 4\n",
      "Counting fib for 3\n",
      "Counting fib for 2\n",
      "Counting fib for 1\n",
      "Counting fib for 2\n",
      "Counting fib for 3\n",
      "Counting fib for 2\n",
      "Counting fib for 1\n",
      "Counting fib for 4\n",
      "Counting fib for 3\n",
      "Counting fib for 2\n",
      "Counting fib for 1\n",
      "Counting fib for 2\n",
      "Counting fib for 5\n",
      "Counting fib for 4\n",
      "Counting fib for 3\n",
      "Counting fib for 2\n",
      "Counting fib for 1\n",
      "Counting fib for 2\n",
      "Counting fib for 3\n",
      "Counting fib for 2\n",
      "Counting fib for 1\n",
      "Counting fib for 6\n",
      "Counting fib for 5\n",
      "Counting fib for 4\n",
      "Counting fib for 3\n",
      "Counting fib for 2\n",
      "Counting fib for 1\n",
      "Counting fib for 2\n",
      "Counting fib for 3\n",
      "Counting fib for 2\n",
      "Counting fib for 1\n",
      "Counting fib for 4\n",
      "Counting fib for 3\n",
      "Counting fib for 2\n",
      "Counting fib for 1\n",
      "Counting fib for 2\n",
      "Counting fib for 7\n",
      "Counting fib for 6\n",
      "Counting fib for 5\n",
      "Counting fib for 4\n",
      "Counting fib for 3\n",
      "Counting fib for 2\n",
      "Counting fib for 1\n",
      "Counting fib for 2\n",
      "Counting fib for 3\n",
      "Counting fib for 2\n",
      "Counting fib for 1\n",
      "Counting fib for 4\n",
      "Counting fib for 3\n",
      "Counting fib for 2\n",
      "Counting fib for 1\n",
      "Counting fib for 2\n",
      "Counting fib for 5\n",
      "Counting fib for 4\n",
      "Counting fib for 3\n",
      "Counting fib for 2\n",
      "Counting fib for 1\n",
      "Counting fib for 2\n",
      "Counting fib for 3\n",
      "Counting fib for 2\n",
      "Counting fib for 1\n",
      "Counting fib for 8\n",
      "Counting fib for 7\n",
      "Counting fib for 6\n",
      "Counting fib for 5\n",
      "Counting fib for 4\n",
      "Counting fib for 3\n",
      "Counting fib for 2\n",
      "Counting fib for 1\n",
      "Counting fib for 2\n",
      "Counting fib for 3\n",
      "Counting fib for 2\n",
      "Counting fib for 1\n",
      "Counting fib for 4\n",
      "Counting fib for 3\n",
      "Counting fib for 2\n",
      "Counting fib for 1\n",
      "Counting fib for 2\n",
      "Counting fib for 5\n",
      "Counting fib for 4\n",
      "Counting fib for 3\n",
      "Counting fib for 2\n",
      "Counting fib for 1\n",
      "Counting fib for 2\n",
      "Counting fib for 3\n",
      "Counting fib for 2\n",
      "Counting fib for 1\n",
      "Counting fib for 6\n",
      "Counting fib for 5\n",
      "Counting fib for 4\n",
      "Counting fib for 3\n",
      "Counting fib for 2\n",
      "Counting fib for 1\n",
      "Counting fib for 2\n",
      "Counting fib for 3\n",
      "Counting fib for 2\n",
      "Counting fib for 1\n",
      "Counting fib for 4\n",
      "Counting fib for 3\n",
      "Counting fib for 2\n",
      "Counting fib for 1\n",
      "Counting fib for 2\n"
     ]
    },
    {
     "data": {
      "text/plain": [
       "55"
      ]
     },
     "execution_count": 19,
     "metadata": {},
     "output_type": "execute_result"
    }
   ],
   "source": [
    "# Nadmiernie liczy tą samą liczbę kilka razy ( dlaczego nie zapisać już policzone liczby ? )\n",
    "\n",
    "fib(10)"
   ]
  },
  {
   "cell_type": "code",
   "execution_count": 20,
   "id": "e0b868be",
   "metadata": {},
   "outputs": [],
   "source": [
    "@memoize\n",
    "def fib(n):\n",
    "    print('Counting fib for {0}'.format(n))\n",
    "    return 1 if n < 3 else fib(n-1) + fib(n-2)"
   ]
  },
  {
   "cell_type": "code",
   "execution_count": 21,
   "id": "98f7197b",
   "metadata": {},
   "outputs": [
    {
     "data": {
      "text/plain": [
       "55"
      ]
     },
     "execution_count": 21,
     "metadata": {},
     "output_type": "execute_result"
    }
   ],
   "source": [
    "# Np. Liczy 10 -> zapisuję do `cache` -> potrzebuje 10 -> patrzy w `cache` -> widzi 10 -> używa 10 z `cache`\n",
    "fib(10)"
   ]
  },
  {
   "cell_type": "code",
   "execution_count": 39,
   "id": "77b1187b",
   "metadata": {},
   "outputs": [
    {
     "name": "stdout",
     "output_type": "stream",
     "text": [
      "Counting fib for 14\n",
      "Counting fib for 13\n"
     ]
    },
    {
     "data": {
      "text/plain": [
       "377"
      ]
     },
     "execution_count": 39,
     "metadata": {},
     "output_type": "execute_result"
    }
   ],
   "source": [
    "# Cały `ceche` nie został wycofany dlatego przy powtórnym liczeniu będą użyte już obliczone wartości\n",
    "\n",
    "fib(14)"
   ]
  },
  {
   "cell_type": "code",
   "execution_count": 41,
   "id": "5116a792",
   "metadata": {},
   "outputs": [],
   "source": [
    "def fact(n):\n",
    "    print('Calculating fact for {0}'.format(n))\n",
    "    return 1 if n < 2 else n * fact(n-1)"
   ]
  },
  {
   "cell_type": "code",
   "execution_count": 42,
   "id": "1efda576",
   "metadata": {},
   "outputs": [
    {
     "name": "stdout",
     "output_type": "stream",
     "text": [
      "Calculating fact for 10\n",
      "Calculating fact for 9\n",
      "Calculating fact for 8\n",
      "Calculating fact for 7\n",
      "Calculating fact for 6\n",
      "Calculating fact for 5\n",
      "Calculating fact for 4\n",
      "Calculating fact for 3\n",
      "Calculating fact for 2\n",
      "Calculating fact for 1\n"
     ]
    },
    {
     "data": {
      "text/plain": [
       "3628800"
      ]
     },
     "execution_count": 42,
     "metadata": {},
     "output_type": "execute_result"
    }
   ],
   "source": [
    "fact(10)"
   ]
  },
  {
   "cell_type": "code",
   "execution_count": 43,
   "id": "6621e881",
   "metadata": {},
   "outputs": [],
   "source": [
    "@memoize\n",
    "def fact(n):\n",
    "    print('Calculating fact for {0}'.format(n))\n",
    "    return 1 if n < 2 else n * fact(n-1)"
   ]
  },
  {
   "cell_type": "code",
   "execution_count": 44,
   "id": "8a09d752",
   "metadata": {},
   "outputs": [
    {
     "name": "stdout",
     "output_type": "stream",
     "text": [
      "Calculating fact for 10\n",
      "Calculating fact for 9\n",
      "Calculating fact for 8\n",
      "Calculating fact for 7\n",
      "Calculating fact for 6\n",
      "Calculating fact for 5\n",
      "Calculating fact for 4\n",
      "Calculating fact for 3\n",
      "Calculating fact for 2\n",
      "Calculating fact for 1\n"
     ]
    },
    {
     "data": {
      "text/plain": [
       "3628800"
      ]
     },
     "execution_count": 44,
     "metadata": {},
     "output_type": "execute_result"
    }
   ],
   "source": [
    "fact(10)"
   ]
  },
  {
   "cell_type": "code",
   "execution_count": 45,
   "id": "9b81c244",
   "metadata": {},
   "outputs": [
    {
     "name": "stdout",
     "output_type": "stream",
     "text": [
      "Calculating fact for 12\n",
      "Calculating fact for 11\n"
     ]
    },
    {
     "data": {
      "text/plain": [
       "479001600"
      ]
     },
     "execution_count": 45,
     "metadata": {},
     "output_type": "execute_result"
    }
   ],
   "source": [
    "fact(12)"
   ]
  },
  {
   "cell_type": "markdown",
   "id": "240eb0b4",
   "metadata": {},
   "source": [
    "---"
   ]
  },
  {
   "cell_type": "markdown",
   "id": "01ba152b",
   "metadata": {},
   "source": [
    "## Built-in narzędzie do memoizacji"
   ]
  },
  {
   "cell_type": "code",
   "execution_count": 46,
   "id": "5378d5f4",
   "metadata": {},
   "outputs": [],
   "source": [
    "from functools import lru_cache # lru - Least Recently Used"
   ]
  },
  {
   "cell_type": "code",
   "execution_count": 47,
   "id": "da3406d2",
   "metadata": {},
   "outputs": [],
   "source": [
    "@lru_cache\n",
    "def fib(n):\n",
    "    print('Counting fib for {0}'.format(n))\n",
    "    return 1 if n < 3 else fib(n-1) + fib(n-2)"
   ]
  },
  {
   "cell_type": "code",
   "execution_count": 48,
   "id": "c702d610",
   "metadata": {},
   "outputs": [
    {
     "name": "stdout",
     "output_type": "stream",
     "text": [
      "Counting fib for 10\n",
      "Counting fib for 9\n",
      "Counting fib for 8\n",
      "Counting fib for 7\n",
      "Counting fib for 6\n",
      "Counting fib for 5\n",
      "Counting fib for 4\n",
      "Counting fib for 3\n",
      "Counting fib for 2\n",
      "Counting fib for 1\n"
     ]
    },
    {
     "data": {
      "text/plain": [
       "55"
      ]
     },
     "execution_count": 48,
     "metadata": {},
     "output_type": "execute_result"
    }
   ],
   "source": [
    "fib(10)"
   ]
  },
  {
   "cell_type": "code",
   "execution_count": 53,
   "id": "1b4022a1",
   "metadata": {},
   "outputs": [],
   "source": [
    "# UWAGA ! maxsize zawsze lepiej ustawiać na potęgę dwójki ( 2, 4, 8, 16, 32 . . . )\n",
    "@lru_cache(maxsize=8)\n",
    "def fib(n):\n",
    "    print('Counting fib for {0}'.format(n))\n",
    "    return 1 if n < 3 else fib(n-1) + fib(n-2)"
   ]
  },
  {
   "cell_type": "code",
   "execution_count": 54,
   "id": "570cd3c1",
   "metadata": {},
   "outputs": [
    {
     "name": "stdout",
     "output_type": "stream",
     "text": [
      "Counting fib for 8\n",
      "Counting fib for 7\n",
      "Counting fib for 6\n",
      "Counting fib for 5\n",
      "Counting fib for 4\n",
      "Counting fib for 3\n",
      "Counting fib for 2\n",
      "Counting fib for 1\n"
     ]
    },
    {
     "data": {
      "text/plain": [
       "21"
      ]
     },
     "execution_count": 54,
     "metadata": {},
     "output_type": "execute_result"
    }
   ],
   "source": [
    "fib(8)"
   ]
  },
  {
   "cell_type": "markdown",
   "id": "f775c06f",
   "metadata": {},
   "source": [
    "`cache` teraz przechowywa 8 liczb Fibonacci"
   ]
  },
  {
   "cell_type": "code",
   "execution_count": 55,
   "id": "70dd753c",
   "metadata": {},
   "outputs": [
    {
     "name": "stdout",
     "output_type": "stream",
     "text": [
      "Counting fib for 9\n"
     ]
    },
    {
     "data": {
      "text/plain": [
       "34"
      ]
     },
     "execution_count": 55,
     "metadata": {},
     "output_type": "execute_result"
    }
   ],
   "source": [
    "# Bo 9 nie ma w cache\n",
    "\n",
    "fib(9)\n",
    "\n",
    "# A teraz już jest"
   ]
  },
  {
   "cell_type": "code",
   "execution_count": 56,
   "id": "7a2e7b91",
   "metadata": {},
   "outputs": [
    {
     "name": "stdout",
     "output_type": "stream",
     "text": [
      "Counting fib for 1\n"
     ]
    },
    {
     "data": {
      "text/plain": [
       "1"
      ]
     },
     "execution_count": 56,
     "metadata": {},
     "output_type": "execute_result"
    }
   ],
   "source": [
    "# Bo 1 była najstarszym elementem w cache, dlatego została usunięta\n",
    "\n",
    "fib(1)"
   ]
  },
  {
   "cell_type": "markdown",
   "id": "4268064d",
   "metadata": {},
   "source": [
    "---"
   ]
  },
  {
   "cell_type": "markdown",
   "id": "69fc1cf9",
   "metadata": {},
   "source": [
    "# Dekoratory z parametrami"
   ]
  },
  {
   "attachments": {
    "image.png": {
     "image/png": "[encoded data removed]"
    }
   },
   "cell_type": "markdown",
   "id": "8d599429",
   "metadata": {},
   "source": [
    "![image.png](attachment:image.png)"
   ]
  },
  {
   "cell_type": "code",
   "execution_count": 2,
   "id": "bccffd25",
   "metadata": {},
   "outputs": [],
   "source": [
    "def calc_fib_rec(n): # Rekurencyjna funkcja do liczenia liczb fibonacciego\n",
    "    return 1 if n < 3 else calc_fib_rec(n-2) + calc_fib_rec(n-1)"
   ]
  },
  {
   "cell_type": "code",
   "execution_count": 3,
   "id": "15039e50",
   "metadata": {},
   "outputs": [
    {
     "data": {
      "text/plain": [
       "55"
      ]
     },
     "execution_count": 3,
     "metadata": {},
     "output_type": "execute_result"
    }
   ],
   "source": [
    "calc_fib_rec(10)"
   ]
  },
  {
   "cell_type": "code",
   "execution_count": 10,
   "id": "82797ee0",
   "metadata": {},
   "outputs": [],
   "source": [
    "# Dekorator który mierzy czas wykonywania funkcji\n",
    "\n",
    "def time(fn):\n",
    "    from time import perf_counter\n",
    "    \n",
    "    def inner(*args, **kwargs):\n",
    "        start = perf_counter()\n",
    "        result = fn(*args, **kwargs)\n",
    "        end = perf_counter()\n",
    "        print('Runing function {0} takes {1:.6f}s'.format(fn.__name__, end-start))\n",
    "        \n",
    "        return result\n",
    "    return inner"
   ]
  },
  {
   "cell_type": "code",
   "execution_count": 11,
   "id": "99e3ec86",
   "metadata": {},
   "outputs": [],
   "source": [
    "@time\n",
    "def calc_fib_rec(n): # Rekurencyjna funkcja do liczenia liczb fibonacciego\n",
    "    return 1 if n < 3 else calc_fib_rec(n-2) + calc_fib_rec(n-1)"
   ]
  },
  {
   "cell_type": "code",
   "execution_count": 12,
   "id": "d5a0567a",
   "metadata": {},
   "outputs": [
    {
     "name": "stdout",
     "output_type": "stream",
     "text": [
      "Runing function calc_fib_rec takes 0.000001s\n",
      "Runing function calc_fib_rec takes 0.000001s\n",
      "Runing function calc_fib_rec takes 0.000499s\n",
      "Runing function calc_fib_rec takes 0.000001s\n",
      "Runing function calc_fib_rec takes 0.000001s\n",
      "Runing function calc_fib_rec takes 0.000000s\n",
      "Runing function calc_fib_rec takes 0.000019s\n",
      "Runing function calc_fib_rec takes 0.000035s\n",
      "Runing function calc_fib_rec takes 0.000551s\n"
     ]
    },
    {
     "data": {
      "text/plain": [
       "5"
      ]
     },
     "execution_count": 12,
     "metadata": {},
     "output_type": "execute_result"
    }
   ],
   "source": [
    "calc_fib_rec(5) # Ponieważ funkcja jest rekurencyjna, dekorator się wywołuję podczas każdej iteracji"
   ]
  },
  {
   "cell_type": "code",
   "execution_count": 15,
   "id": "7667dba8",
   "metadata": {},
   "outputs": [],
   "source": [
    "def calc_fib_rec(n): # Rekurencyjna funkcja do liczenia liczb fibonacciego\n",
    "    return 1 if n < 3 else calc_fib_rec(n-2) + calc_fib_rec(n-1)"
   ]
  },
  {
   "cell_type": "code",
   "execution_count": 16,
   "id": "c5e75266",
   "metadata": {},
   "outputs": [],
   "source": [
    "@time\n",
    "def fib(n):\n",
    "    return calc_fib_rec(n)"
   ]
  },
  {
   "cell_type": "code",
   "execution_count": 24,
   "id": "219e9912",
   "metadata": {},
   "outputs": [
    {
     "name": "stdout",
     "output_type": "stream",
     "text": [
      "Runing function fib takes 0.006907s\n"
     ]
    },
    {
     "data": {
      "text/plain": [
       "6765"
      ]
     },
     "execution_count": 24,
     "metadata": {},
     "output_type": "execute_result"
    }
   ],
   "source": [
    "fib(20)"
   ]
  },
  {
   "cell_type": "markdown",
   "id": "4d17d886",
   "metadata": {},
   "source": [
    "### Dekorator ( z parametrem ) do obliczania średniego czasu wykonywania funkcji"
   ]
  },
  {
   "cell_type": "code",
   "execution_count": 52,
   "id": "3ac281b0",
   "metadata": {},
   "outputs": [],
   "source": [
    "def time(reps): # to NIE jest dekorator, TO funkcja która zrwaca dekorator\n",
    "    \n",
    "    def dec(fn): # to JEST dekorator\n",
    "        from time import perf_counter\n",
    "\n",
    "        def inner(*args, **kwargs):\n",
    "            total = 0\n",
    "            for i in range(reps):\n",
    "                start = perf_counter()\n",
    "                result = fn(*args, **kwargs)\n",
    "                end = perf_counter()\n",
    "                \n",
    "                total += (end - start)\n",
    "                                \n",
    "            avg_time = total / reps\n",
    "\n",
    "            print('Avg Run time: {0:.6f} ({1} times)'.format(avg_time, reps))\n",
    "\n",
    "            return result\n",
    "        return inner\n",
    "    return dec"
   ]
  },
  {
   "cell_type": "code",
   "execution_count": 53,
   "id": "fc7d9694",
   "metadata": {},
   "outputs": [],
   "source": [
    "@time(5)\n",
    "def fib(n):\n",
    "    return calc_fib_rec(n)"
   ]
  },
  {
   "cell_type": "code",
   "execution_count": 54,
   "id": "816bbe4e",
   "metadata": {},
   "outputs": [
    {
     "name": "stdout",
     "output_type": "stream",
     "text": [
      "Avg Run time: 0.052958 (5 times)\n"
     ]
    },
    {
     "data": {
      "text/plain": [
       "317811"
      ]
     },
     "execution_count": 54,
     "metadata": {},
     "output_type": "execute_result"
    }
   ],
   "source": [
    "fib(28)"
   ]
  },
  {
   "cell_type": "markdown",
   "id": "1e8125cd",
   "metadata": {},
   "source": [
    "## [ ! ] Dekorator jako klasa"
   ]
  },
  {
   "cell_type": "code",
   "execution_count": 5,
   "id": "b1043121",
   "metadata": {},
   "outputs": [],
   "source": [
    "class MyClass:\n",
    "    def __init__(self, a, b):\n",
    "        self.a = a\n",
    "        self.b = b\n",
    "        \n",
    "    def __call__(self):\n",
    "        print('decorator called a={0} b={1}'.format(self.a, self.b))\n",
    "        def inner(*args, **kwargs):\n",
    "            print('Doing somethnig')\n",
    "            \n",
    "        return inner"
   ]
  },
  {
   "cell_type": "code",
   "execution_count": 6,
   "id": "c09448f2",
   "metadata": {},
   "outputs": [],
   "source": [
    "obj = MyClass(10, 20)"
   ]
  },
  {
   "cell_type": "code",
   "execution_count": 7,
   "id": "13c38411",
   "metadata": {},
   "outputs": [
    {
     "name": "stdout",
     "output_type": "stream",
     "text": [
      "decorator called a=10 b=20\n"
     ]
    },
    {
     "data": {
      "text/plain": [
       "<function __main__.MyClass.__call__.<locals>.inner(*args, **kwargs)>"
      ]
     },
     "execution_count": 7,
     "metadata": {},
     "output_type": "execute_result"
    }
   ],
   "source": [
    "obj()"
   ]
  },
  {
   "cell_type": "code",
   "execution_count": 11,
   "id": "7369f13f",
   "metadata": {},
   "outputs": [],
   "source": [
    "class MyClass:\n",
    "    def __init__(self, a, b):\n",
    "        self.a = a\n",
    "        self.b = b\n",
    "        \n",
    "    def __call__(self, fn):\n",
    "        def inner(*args, **kwargs):\n",
    "            print('decorator called a={0} b={1}'.format(self.a, self.b))\n",
    "            fn(*args, **kwargs)\n",
    "            \n",
    "        return inner"
   ]
  },
  {
   "cell_type": "code",
   "execution_count": 12,
   "id": "65064849",
   "metadata": {},
   "outputs": [],
   "source": [
    "@MyClass(10, 20)\n",
    "def my_func():\n",
    "    print('Doing somethnig')"
   ]
  },
  {
   "cell_type": "code",
   "execution_count": 13,
   "id": "5c64d6bf",
   "metadata": {},
   "outputs": [
    {
     "name": "stdout",
     "output_type": "stream",
     "text": [
      "decorator called a=10 b=20\n",
      "Doing somethnig\n"
     ]
    }
   ],
   "source": [
    "my_func()"
   ]
  },
  {
   "cell_type": "markdown",
   "id": "0cc7463a",
   "metadata": {},
   "source": [
    "# Dekorowanie klas"
   ]
  },
  {
   "cell_type": "markdown",
   "id": "b9a9d0a2",
   "metadata": {},
   "source": [
    "Dekorator może dodawać właściwosći i metody klasom"
   ]
  },
  {
   "cell_type": "code",
   "execution_count": 1,
   "id": "69811f18",
   "metadata": {},
   "outputs": [],
   "source": [
    "class Person:\n",
    "    def __init__(self, name, age):\n",
    "        self.name = name\n",
    "        self.age = age\n",
    "    \n",
    "    def __repr__(self):\n",
    "        return 'Hi! My name is {0} and I was born in {1}'.format(self.name, self.age)"
   ]
  },
  {
   "cell_type": "code",
   "execution_count": 2,
   "id": "d2700ffa",
   "metadata": {},
   "outputs": [],
   "source": [
    "p1 = Person('John', '1925')"
   ]
  },
  {
   "cell_type": "code",
   "execution_count": 3,
   "id": "19e06f6d",
   "metadata": {},
   "outputs": [
    {
     "data": {
      "text/plain": [
       "Hi! My name is John and I was born in 1925"
      ]
     },
     "execution_count": 3,
     "metadata": {},
     "output_type": "execute_result"
    }
   ],
   "source": [
    "p1"
   ]
  },
  {
   "cell_type": "code",
   "execution_count": 4,
   "id": "4c64e368",
   "metadata": {},
   "outputs": [
    {
     "ename": "AttributeError",
     "evalue": "'Person' object has no attribute 'debug'",
     "output_type": "error",
     "traceback": [
      "\u001b[0;31m---------------------------------------------------------------------------\u001b[0m",
      "\u001b[0;31mAttributeError\u001b[0m                            Traceback (most recent call last)",
      "Cell \u001b[0;32mIn[4], line 1\u001b[0m\n\u001b[0;32m----> 1\u001b[0m \u001b[43mp1\u001b[49m\u001b[38;5;241;43m.\u001b[39;49m\u001b[43mdebug\u001b[49m()\n",
      "\u001b[0;31mAttributeError\u001b[0m: 'Person' object has no attribute 'debug'"
     ]
    }
   ],
   "source": [
    "p1.debug()"
   ]
  },
  {
   "cell_type": "code",
   "execution_count": 17,
   "id": "c20f11cb",
   "metadata": {},
   "outputs": [],
   "source": [
    "def debug(cls):\n",
    "    cls.debug = lambda self: {'name': self.name, 'age': self.age}\n",
    "    \n",
    "    return cls"
   ]
  },
  {
   "cell_type": "code",
   "execution_count": 18,
   "id": "85b1ab0c",
   "metadata": {},
   "outputs": [],
   "source": [
    "class Person:\n",
    "    def __init__(self, name, age):\n",
    "        self.name = name\n",
    "        self.age = age\n",
    "    \n",
    "    def __repr__(self):\n",
    "        return 'Hi! My name is {0} and I was born in {1}'.format(self.name, self.age)"
   ]
  },
  {
   "cell_type": "code",
   "execution_count": 19,
   "id": "aafc9a5e",
   "metadata": {},
   "outputs": [],
   "source": [
    "Person = debug(Person)"
   ]
  },
  {
   "cell_type": "code",
   "execution_count": 20,
   "id": "7d518a64",
   "metadata": {},
   "outputs": [],
   "source": [
    "p2 = Person('Walter', '1956')"
   ]
  },
  {
   "cell_type": "code",
   "execution_count": 22,
   "id": "4b460221",
   "metadata": {},
   "outputs": [
    {
     "data": {
      "text/plain": [
       "{'name': 'Walter', 'age': '1956'}"
      ]
     },
     "execution_count": 22,
     "metadata": {},
     "output_type": "execute_result"
    }
   ],
   "source": [
    "p2.debug()"
   ]
  },
  {
   "cell_type": "markdown",
   "id": "9f70b298",
   "metadata": {},
   "source": [
    "## Dekorator klas"
   ]
  },
  {
   "cell_type": "code",
   "execution_count": 26,
   "id": "4c5576f5",
   "metadata": {},
   "outputs": [],
   "source": [
    "def debug(cls):\n",
    "    cls.debug = lambda self: {'name': self.name, 'age': self.age}\n",
    "    \n",
    "    return cls"
   ]
  },
  {
   "cell_type": "code",
   "execution_count": 27,
   "id": "38d815f6",
   "metadata": {},
   "outputs": [],
   "source": [
    "@debug\n",
    "class Person:\n",
    "    def __init__(self, name, age):\n",
    "        self.name = name\n",
    "        self.age = age\n",
    "    \n",
    "    def __repr__(self):\n",
    "        return 'Hi! My name is {0} and I was born in {1}'.format(self.name, self.age)"
   ]
  },
  {
   "cell_type": "code",
   "execution_count": 28,
   "id": "afad00c1",
   "metadata": {},
   "outputs": [],
   "source": [
    "p3 = Person('Mark', '1967')"
   ]
  },
  {
   "cell_type": "code",
   "execution_count": 49,
   "id": "6c0fd004",
   "metadata": {},
   "outputs": [
    {
     "data": {
      "text/plain": [
       "{'name': 'Mark', 'age': '1967'}"
      ]
     },
     "execution_count": 49,
     "metadata": {},
     "output_type": "execute_result"
    }
   ],
   "source": [
    "p3.debug()"
   ]
  },
  {
   "cell_type": "code",
   "execution_count": null,
   "id": "4810f1f4",
   "metadata": {},
   "outputs": [],
   "source": []
  },
  {
   "cell_type": "code",
   "execution_count": null,
   "id": "6728804c",
   "metadata": {},
   "outputs": [],
   "source": []
  },
  {
   "cell_type": "markdown",
   "id": "fa711e94",
   "metadata": {},
   "source": [
    "                  /--- function #1\n",
    "dispatch function ---- function #2\n",
    "                  \\--- function #3"
   ]
  },
  {
   "cell_type": "code",
   "execution_count": null,
   "id": "015b0e57",
   "metadata": {},
   "outputs": [],
   "source": []
  }
 ],
 "metadata": {
  "kernelspec": {
   "display_name": "Python 3 (ipykernel)",
   "language": "python",
   "name": "python3"
  },
  "language_info": {
   "codemirror_mode": {
    "name": "ipython",
    "version": 3
   },
   "file_extension": ".py",
   "mimetype": "text/x-python",
   "name": "python",
   "nbconvert_exporter": "python",
   "pygments_lexer": "ipython3",
   "version": "3.10.8"
  }
 },
 "nbformat": 4,
 "nbformat_minor": 5
}
