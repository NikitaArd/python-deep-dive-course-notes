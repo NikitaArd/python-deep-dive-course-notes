{
 "cells": [
  {
   "cell_type": "code",
   "execution_count": 14,
   "id": "1343ea71",
   "metadata": {},
   "outputs": [],
   "source": [
    "class Rectangle:\n",
    "    # metota uruchamia się podczas tworzenia nowej instancji tej Klasy\n",
    "    def __init__(self, width, heigth):\n",
    "        self.width = width\n",
    "        self.heigt = heigth\n",
    "        \n",
    "    def area(self):\n",
    "        return self.width * self.heigth\n",
    "    \n",
    "    # metody str i repr często mylą między sobą\n",
    "    \n",
    "    def __str__(self):\n",
    "        return 'This is __str__ method'\n",
    "    \n",
    "    def __repr__(self): # from representational\n",
    "        return 'This is __repr__ method'"
   ]
  },
  {
   "cell_type": "markdown",
   "id": "65c2265c",
   "metadata": {},
   "source": [
    "# Ciekawostka"
   ]
  },
  {
   "cell_type": "code",
   "execution_count": 30,
   "id": "ae4c1abf",
   "metadata": {},
   "outputs": [],
   "source": [
    "class Circle:\n",
    "    # paramter self nie ma stałej nazwy\n",
    "    def __init__(my_new_object, radius):\n",
    "        my_new_object.radius = radius"
   ]
  },
  {
   "cell_type": "code",
   "execution_count": 11,
   "id": "92464c0a",
   "metadata": {},
   "outputs": [],
   "source": [
    "r1 = Rectangle(10, 20)"
   ]
  },
  {
   "cell_type": "code",
   "execution_count": 12,
   "id": "d4d27bf9",
   "metadata": {},
   "outputs": [
    {
     "data": {
      "text/plain": [
       "This is __repr__ method"
      ]
     },
     "execution_count": 12,
     "metadata": {},
     "output_type": "execute_result"
    }
   ],
   "source": [
    "r1"
   ]
  },
  {
   "cell_type": "code",
   "execution_count": 17,
   "id": "e8fdb1ad",
   "metadata": {},
   "outputs": [
    {
     "data": {
      "text/plain": [
       "'This is __str__ method'"
      ]
     },
     "execution_count": 17,
     "metadata": {},
     "output_type": "execute_result"
    }
   ],
   "source": [
    "str(r1)"
   ]
  },
  {
   "cell_type": "code",
   "execution_count": 18,
   "id": "07d1cbbd",
   "metadata": {},
   "outputs": [],
   "source": [
    "r1 = Rectangle(10, 20)\n",
    "r2 = Rectangle(10, 20)"
   ]
  },
  {
   "cell_type": "code",
   "execution_count": 19,
   "id": "9eb47508",
   "metadata": {},
   "outputs": [
    {
     "data": {
      "text/plain": [
       "False"
      ]
     },
     "execution_count": 19,
     "metadata": {},
     "output_type": "execute_result"
    }
   ],
   "source": [
    "r1 is r2"
   ]
  },
  {
   "cell_type": "code",
   "execution_count": 20,
   "id": "7558266e",
   "metadata": {},
   "outputs": [
    {
     "data": {
      "text/plain": [
       "False"
      ]
     },
     "execution_count": 20,
     "metadata": {},
     "output_type": "execute_result"
    }
   ],
   "source": [
    "r1 == r2"
   ]
  },
  {
   "cell_type": "markdown",
   "id": "4debd7db",
   "metadata": {},
   "source": [
    "## Interesting __ eq __ method"
   ]
  },
  {
   "cell_type": "code",
   "execution_count": 25,
   "id": "6127aba7",
   "metadata": {},
   "outputs": [],
   "source": [
    "class Rectangle:\n",
    "    def __init__(self, width, height):\n",
    "        self.width = width\n",
    "        self.height = height\n",
    "        \n",
    "    def area(self):\n",
    "        return self.width * self.heigth\n",
    "        \n",
    "    def __str__(self):\n",
    "        return 'This is __str__ method'\n",
    "    \n",
    "    def __repr__(self):\n",
    "        return 'This is __repr__ method'\n",
    "    \n",
    "    def __eq__(self, other): # self to objekt r1, other to objekt r2 z przykładu r1 == r2\n",
    "        return self.width == other.width and self.height == other.height"
   ]
  },
  {
   "cell_type": "code",
   "execution_count": 26,
   "id": "3592096e",
   "metadata": {},
   "outputs": [],
   "source": [
    "r1 = Rectangle(10, 20)\n",
    "r2 = Rectangle(10, 20)"
   ]
  },
  {
   "cell_type": "code",
   "execution_count": 27,
   "id": "ded947b2",
   "metadata": {},
   "outputs": [
    {
     "data": {
      "text/plain": [
       "False"
      ]
     },
     "execution_count": 27,
     "metadata": {},
     "output_type": "execute_result"
    }
   ],
   "source": [
    "r1 is r2"
   ]
  },
  {
   "cell_type": "code",
   "execution_count": 28,
   "id": "359c18b4",
   "metadata": {},
   "outputs": [
    {
     "data": {
      "text/plain": [
       "True"
      ]
     },
     "execution_count": 28,
     "metadata": {},
     "output_type": "execute_result"
    }
   ],
   "source": [
    "r1 == r2"
   ]
  },
  {
   "cell_type": "code",
   "execution_count": 31,
   "id": "bfb665ff",
   "metadata": {},
   "outputs": [],
   "source": [
    "r1 = Rectangle(10, 20)\n",
    "c1 = Circle(10)"
   ]
  },
  {
   "cell_type": "code",
   "execution_count": 32,
   "id": "cd79aec5",
   "metadata": {},
   "outputs": [
    {
     "ename": "AttributeError",
     "evalue": "'Circle' object has no attribute 'width'",
     "output_type": "error",
     "traceback": [
      "\u001b[0;31m---------------------------------------------------------------------------\u001b[0m",
      "\u001b[0;31mAttributeError\u001b[0m                            Traceback (most recent call last)",
      "Cell \u001b[0;32mIn[32], line 1\u001b[0m\n\u001b[0;32m----> 1\u001b[0m \u001b[43mr1\u001b[49m\u001b[43m \u001b[49m\u001b[38;5;241;43m==\u001b[39;49m\u001b[43m \u001b[49m\u001b[43mc1\u001b[49m\n",
      "Cell \u001b[0;32mIn[25], line 16\u001b[0m, in \u001b[0;36mRectangle.__eq__\u001b[0;34m(self, other)\u001b[0m\n\u001b[1;32m     15\u001b[0m \u001b[38;5;28;01mdef\u001b[39;00m \u001b[38;5;21m__eq__\u001b[39m(\u001b[38;5;28mself\u001b[39m, other): \u001b[38;5;66;03m# self to objekt r1, other to objekt r2 z przypadku r1 == r2\u001b[39;00m\n\u001b[0;32m---> 16\u001b[0m     \u001b[38;5;28;01mreturn\u001b[39;00m \u001b[38;5;28mself\u001b[39m\u001b[38;5;241m.\u001b[39mwidth \u001b[38;5;241m==\u001b[39m \u001b[43mother\u001b[49m\u001b[38;5;241;43m.\u001b[39;49m\u001b[43mwidth\u001b[49m \u001b[38;5;129;01mand\u001b[39;00m \u001b[38;5;28mself\u001b[39m\u001b[38;5;241m.\u001b[39mheight \u001b[38;5;241m==\u001b[39m other\u001b[38;5;241m.\u001b[39mheight\n",
      "\u001b[0;31mAttributeError\u001b[0m: 'Circle' object has no attribute 'width'"
     ]
    }
   ],
   "source": [
    "r1 == c1"
   ]
  },
  {
   "cell_type": "code",
   "execution_count": 52,
   "id": "c9f91d00",
   "metadata": {},
   "outputs": [],
   "source": [
    "class Rectangle:\n",
    "    def __init__(self, width, height):\n",
    "        self.width = width\n",
    "        self.height = height\n",
    "        \n",
    "    def area(self):\n",
    "        return self.width * self.heigth\n",
    "        \n",
    "    def __str__(self):\n",
    "        return 'This is __str__ method'\n",
    "    \n",
    "    def __repr__(self):\n",
    "        return 'This is __repr__ method'\n",
    "    \n",
    "    def __eq__(self, other):\n",
    "        if isinstance(other, Rectangle): # Aby uniknąć AttribiteError\n",
    "            return self.width == other.width and self.height == other.height\n",
    "        return False"
   ]
  },
  {
   "cell_type": "code",
   "execution_count": 53,
   "id": "caf215e2",
   "metadata": {},
   "outputs": [],
   "source": [
    "r1 = Rectangle(10, 20)\n",
    "c1 = Circle(10)"
   ]
  },
  {
   "cell_type": "code",
   "execution_count": 54,
   "id": "757e2b28",
   "metadata": {},
   "outputs": [
    {
     "data": {
      "text/plain": [
       "False"
      ]
     },
     "execution_count": 54,
     "metadata": {},
     "output_type": "execute_result"
    }
   ],
   "source": [
    "r1 == c1"
   ]
  },
  {
   "cell_type": "markdown",
   "id": "3b8acfb9",
   "metadata": {},
   "source": [
    "# Porównywanie objektów"
   ]
  },
  {
   "cell_type": "code",
   "execution_count": 10,
   "id": "23ccc002",
   "metadata": {},
   "outputs": [],
   "source": [
    "class Rectangle:\n",
    "    def __init__(self, width, height):\n",
    "        self.width = width\n",
    "        self.height = height\n",
    "        \n",
    "    def area(self):\n",
    "        return self.width * self.height\n",
    "        \n",
    "    def __str__(self):\n",
    "        return 'This is __str__ method'\n",
    "    \n",
    "    def __repr__(self):\n",
    "        return 'Reactange ({0}, {1})'.format(self.width, self.heigth)\n",
    "    \n",
    "    def __eq__(self, other):\n",
    "        if isinstance(other, Rectangle): \n",
    "            return self.width == other.width and self.height == other.height\n",
    "        return False\n",
    "    \n",
    "    def __lt__(self, other): # tak samo jak w metodzie __eq__\n",
    "        if isinstance(other, Rectangle): \n",
    "            return self.area() < other.area()\n",
    "        return False"
   ]
  },
  {
   "cell_type": "code",
   "execution_count": 11,
   "id": "2656b2d3",
   "metadata": {},
   "outputs": [],
   "source": [
    "r1 = Rectangle(10, 20)\n",
    "r2 = Rectangle(10, 30)"
   ]
  },
  {
   "cell_type": "code",
   "execution_count": 15,
   "id": "616acd88",
   "metadata": {},
   "outputs": [
    {
     "data": {
      "text/plain": [
       "False"
      ]
     },
     "execution_count": 15,
     "metadata": {},
     "output_type": "execute_result"
    }
   ],
   "source": [
    "r2 < r1"
   ]
  },
  {
   "cell_type": "markdown",
   "id": "943b9922",
   "metadata": {},
   "source": [
    "# Python Getter & Setter"
   ]
  },
  {
   "cell_type": "code",
   "execution_count": 22,
   "id": "7e1b01f2",
   "metadata": {},
   "outputs": [],
   "source": [
    "class Rectangle:\n",
    "    def __init__(self, width, height):\n",
    "        self.width = width\n",
    "        self.height = height\n",
    "        \n",
    "    def area(self):\n",
    "        return self.width * self.height\n",
    "    \n",
    "    def __repr__(self):\n",
    "        return 'Reactange ({0}, {1})'.format(self.width, self.height)"
   ]
  },
  {
   "cell_type": "code",
   "execution_count": 23,
   "id": "444bee08",
   "metadata": {},
   "outputs": [],
   "source": [
    "r1 = Rectangle(-100, 20)"
   ]
  },
  {
   "cell_type": "code",
   "execution_count": 24,
   "id": "1e4bd317",
   "metadata": {},
   "outputs": [
    {
     "data": {
      "text/plain": [
       "Reactange (-100, 20)"
      ]
     },
     "execution_count": 24,
     "metadata": {},
     "output_type": "execute_result"
    }
   ],
   "source": [
    "r1"
   ]
  },
  {
   "cell_type": "markdown",
   "id": "6f1dd744",
   "metadata": {},
   "source": [
    "### Getter"
   ]
  },
  {
   "cell_type": "code",
   "execution_count": 29,
   "id": "a73a0573",
   "metadata": {},
   "outputs": [],
   "source": [
    "class Rectangle:\n",
    "    def __init__(self, width, height):\n",
    "        self._width = width\n",
    "        self._height = height\n",
    "    \n",
    "    # Pythonic way to craete Getter ( call like r1.width )\n",
    "    @property\n",
    "    def width(self):\n",
    "        print('getting width')\n",
    "        return self._width\n",
    "    \n",
    "    @property\n",
    "    def heigth(self):\n",
    "        return self._heigth\n",
    "        \n",
    "    def area(self):\n",
    "        return self._width * self._height\n",
    "    \n",
    "    def __repr__(self):\n",
    "        return 'Reactange ({0}, {1})'.format(self.width, self.height)"
   ]
  },
  {
   "cell_type": "code",
   "execution_count": 30,
   "id": "72b652d5",
   "metadata": {},
   "outputs": [],
   "source": [
    "r1 = Rectangle(10, 20)"
   ]
  },
  {
   "cell_type": "code",
   "execution_count": 31,
   "id": "063a0a7b",
   "metadata": {},
   "outputs": [
    {
     "name": "stdout",
     "output_type": "stream",
     "text": [
      "getting width\n"
     ]
    },
    {
     "data": {
      "text/plain": [
       "10"
      ]
     },
     "execution_count": 31,
     "metadata": {},
     "output_type": "execute_result"
    }
   ],
   "source": [
    "r1.width # to wywołuje metode ( def width(self) ), a nie zmienną _width"
   ]
  },
  {
   "cell_type": "markdown",
   "id": "f67ed071",
   "metadata": {},
   "source": [
    "### Setter"
   ]
  },
  {
   "cell_type": "code",
   "execution_count": 39,
   "id": "8a86d598",
   "metadata": {},
   "outputs": [],
   "source": [
    "class Rectangle:\n",
    "    def __init__(self, width, height):\n",
    "        # Tu ustawiamy parametry też przez Setter\n",
    "        self.width = width\n",
    "        self.height = height\n",
    "    \n",
    "    # Pythonic way to craete Getter ( call like r1.width )\n",
    "    @property\n",
    "    def width(self):\n",
    "        print('getting width')\n",
    "        return self._width\n",
    "    \n",
    "    @width.setter\n",
    "    def width(self, width):\n",
    "        if width <= 0:\n",
    "            raise ValueError('Długość nie może być mniejsza lub równa 0')\n",
    "        else:\n",
    "            self._width = width\n",
    "    \n",
    "    @property\n",
    "    def height(self):\n",
    "        return self._heigth\n",
    "    \n",
    "    @height.setter\n",
    "    def height(self, height):\n",
    "        if height <= 0:\n",
    "            raise ValueError('Wysokość nie może być mniejsza lub równa 0')\n",
    "        else:\n",
    "            self._height = height\n",
    "        \n",
    "    def area(self):\n",
    "        return self._width * self._height\n",
    "    \n",
    "    def __repr__(self):\n",
    "        return 'Reactange ({0}, {1})'.format(self.width, self.height)"
   ]
  },
  {
   "cell_type": "code",
   "execution_count": 40,
   "id": "ffba7bf5",
   "metadata": {},
   "outputs": [
    {
     "ename": "ValueError",
     "evalue": "Długość nie może być mniejsza lub równa 0",
     "output_type": "error",
     "traceback": [
      "\u001b[0;31m---------------------------------------------------------------------------\u001b[0m",
      "\u001b[0;31mValueError\u001b[0m                                Traceback (most recent call last)",
      "Cell \u001b[0;32mIn[40], line 1\u001b[0m\n\u001b[0;32m----> 1\u001b[0m r1 \u001b[38;5;241m=\u001b[39m \u001b[43mRectangle\u001b[49m\u001b[43m(\u001b[49m\u001b[38;5;241;43m-\u001b[39;49m\u001b[38;5;241;43m10\u001b[39;49m\u001b[43m,\u001b[49m\u001b[43m \u001b[49m\u001b[38;5;241;43m20\u001b[39;49m\u001b[43m)\u001b[49m\n",
      "Cell \u001b[0;32mIn[39], line 4\u001b[0m, in \u001b[0;36mRectangle.__init__\u001b[0;34m(self, width, height)\u001b[0m\n\u001b[1;32m      2\u001b[0m \u001b[38;5;28;01mdef\u001b[39;00m \u001b[38;5;21m__init__\u001b[39m(\u001b[38;5;28mself\u001b[39m, width, height):\n\u001b[1;32m      3\u001b[0m     \u001b[38;5;66;03m# Tu ustawiamy parametry też przez Setter\u001b[39;00m\n\u001b[0;32m----> 4\u001b[0m     \u001b[38;5;28;43mself\u001b[39;49m\u001b[38;5;241;43m.\u001b[39;49m\u001b[43mwidth\u001b[49m \u001b[38;5;241m=\u001b[39m width\n\u001b[1;32m      5\u001b[0m     \u001b[38;5;28mself\u001b[39m\u001b[38;5;241m.\u001b[39mheight \u001b[38;5;241m=\u001b[39m height\n",
      "Cell \u001b[0;32mIn[39], line 16\u001b[0m, in \u001b[0;36mRectangle.width\u001b[0;34m(self, width)\u001b[0m\n\u001b[1;32m     13\u001b[0m \u001b[38;5;129m@width\u001b[39m\u001b[38;5;241m.\u001b[39msetter\n\u001b[1;32m     14\u001b[0m \u001b[38;5;28;01mdef\u001b[39;00m \u001b[38;5;21mwidth\u001b[39m(\u001b[38;5;28mself\u001b[39m, width):\n\u001b[1;32m     15\u001b[0m     \u001b[38;5;28;01mif\u001b[39;00m width \u001b[38;5;241m<\u001b[39m\u001b[38;5;241m=\u001b[39m \u001b[38;5;241m0\u001b[39m:\n\u001b[0;32m---> 16\u001b[0m         \u001b[38;5;28;01mraise\u001b[39;00m \u001b[38;5;167;01mValueError\u001b[39;00m(\u001b[38;5;124m'\u001b[39m\u001b[38;5;124mDługość nie może być mniejsza lub równa 0\u001b[39m\u001b[38;5;124m'\u001b[39m)\n\u001b[1;32m     17\u001b[0m     \u001b[38;5;28;01melse\u001b[39;00m:\n\u001b[1;32m     18\u001b[0m         \u001b[38;5;28mself\u001b[39m\u001b[38;5;241m.\u001b[39m_width \u001b[38;5;241m=\u001b[39m width\n",
      "\u001b[0;31mValueError\u001b[0m: Długość nie może być mniejsza lub równa 0"
     ]
    }
   ],
   "source": [
    "r1 = Rectangle(-10, 20)"
   ]
  },
  {
   "cell_type": "code",
   "execution_count": null,
   "id": "2bc31e3c",
   "metadata": {},
   "outputs": [],
   "source": []
  }
 ],
 "metadata": {
  "kernelspec": {
   "display_name": "Python 3 (ipykernel)",
   "language": "python",
   "name": "python3"
  },
  "language_info": {
   "codemirror_mode": {
    "name": "ipython",
    "version": 3
   },
   "file_extension": ".py",
   "mimetype": "text/x-python",
   "name": "python",
   "nbconvert_exporter": "python",
   "pygments_lexer": "ipython3",
   "version": "3.10.8"
  }
 },
 "nbformat": 4,
 "nbformat_minor": 5
}
