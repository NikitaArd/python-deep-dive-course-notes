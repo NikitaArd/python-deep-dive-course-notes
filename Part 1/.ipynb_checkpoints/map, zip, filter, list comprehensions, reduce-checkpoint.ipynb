{
 "cells": [
  {
   "cell_type": "markdown",
   "id": "ea561e86",
   "metadata": {},
   "source": [
    "## <code>map</code> function"
   ]
  },
  {
   "cell_type": "markdown",
   "id": "24def255",
   "metadata": {},
   "source": [
    "map(func, *iterables)"
   ]
  },
  {
   "cell_type": "code",
   "execution_count": 3,
   "id": "d094fcb8",
   "metadata": {},
   "outputs": [],
   "source": [
    "l = [2, 3, 4]\n",
    "def sq(x):\n",
    "    return x**2"
   ]
  },
  {
   "cell_type": "code",
   "execution_count": 5,
   "id": "64a4c6e0",
   "metadata": {},
   "outputs": [
    {
     "data": {
      "text/plain": [
       "<map at 0x10d6e82e0>"
      ]
     },
     "execution_count": 5,
     "metadata": {},
     "output_type": "execute_result"
    }
   ],
   "source": [
    "map(sq, l) # zwraca iterator"
   ]
  },
  {
   "cell_type": "code",
   "execution_count": 6,
   "id": "d0ca6b65",
   "metadata": {},
   "outputs": [
    {
     "data": {
      "text/plain": [
       "[4, 9, 16]"
      ]
     },
     "execution_count": 6,
     "metadata": {},
     "output_type": "execute_result"
    }
   ],
   "source": [
    "list(map(sq, l))"
   ]
  },
  {
   "cell_type": "code",
   "execution_count": 7,
   "id": "1442c9e0",
   "metadata": {},
   "outputs": [],
   "source": [
    "# Jeśli jedna z l1 będzie miała więcej objeków niż l2, funkcja map zatrzyma się na ostatnim elemntu KRÓTSZEJ listy\n",
    "l1 = [1, 2, 3]\n",
    "l2 = [10, 20, 30]\n",
    "\n",
    "def add(x, y):\n",
    "    return x+y"
   ]
  },
  {
   "cell_type": "code",
   "execution_count": 9,
   "id": "173025f1",
   "metadata": {},
   "outputs": [
    {
     "data": {
      "text/plain": [
       "[11, 22, 33]"
      ]
     },
     "execution_count": 9,
     "metadata": {},
     "output_type": "execute_result"
    }
   ],
   "source": [
    "list(map(add, l1, l2))"
   ]
  },
  {
   "cell_type": "code",
   "execution_count": 11,
   "id": "0a70538c",
   "metadata": {},
   "outputs": [
    {
     "data": {
      "text/plain": [
       "[11, 22, 33]"
      ]
     },
     "execution_count": 11,
     "metadata": {},
     "output_type": "execute_result"
    }
   ],
   "source": [
    "# Albo z lambda\n",
    "list(map(lambda x, y: x+y, l1, l2))"
   ]
  },
  {
   "cell_type": "markdown",
   "id": "2421eeca",
   "metadata": {},
   "source": [
    "---"
   ]
  },
  {
   "cell_type": "markdown",
   "id": "451b2eff",
   "metadata": {},
   "source": [
    "## <code>filter</code> function"
   ]
  },
  {
   "cell_type": "markdown",
   "id": "46e9f97f",
   "metadata": {},
   "source": [
    "filter(fucn, iterable) # func ma tylko jeden argument"
   ]
  },
  {
   "cell_type": "code",
   "execution_count": 13,
   "id": "c2a5faf2",
   "metadata": {},
   "outputs": [
    {
     "data": {
      "text/plain": [
       "[1, 2, 3, 4]"
      ]
     },
     "execution_count": 13,
     "metadata": {},
     "output_type": "execute_result"
    }
   ],
   "source": [
    "l = [0, 1, 2, 3, 4]\n",
    "list(filter(None, l))"
   ]
  },
  {
   "cell_type": "code",
   "execution_count": 20,
   "id": "ac7a4a15",
   "metadata": {},
   "outputs": [],
   "source": [
    "def is_even(x):\n",
    "    return x % 2 == 0"
   ]
  },
  {
   "cell_type": "code",
   "execution_count": 21,
   "id": "136f91c9",
   "metadata": {},
   "outputs": [
    {
     "data": {
      "text/plain": [
       "[0, 2, 4]"
      ]
     },
     "execution_count": 21,
     "metadata": {},
     "output_type": "execute_result"
    }
   ],
   "source": [
    "list(filter(is_even, l))"
   ]
  },
  {
   "cell_type": "markdown",
   "id": "97702745",
   "metadata": {},
   "source": [
    "## <code>zip</code> function"
   ]
  },
  {
   "cell_type": "markdown",
   "id": "011614a1",
   "metadata": {},
   "source": [
    "zip(*itarables)"
   ]
  },
  {
   "cell_type": "code",
   "execution_count": 23,
   "id": "9c701d72",
   "metadata": {},
   "outputs": [],
   "source": [
    "l1 = [1, 2, 3]\n",
    "l2 = [10, 20, 30]"
   ]
  },
  {
   "cell_type": "code",
   "execution_count": 25,
   "id": "4744ca3b",
   "metadata": {},
   "outputs": [
    {
     "data": {
      "text/plain": [
       "[(1, 10), (2, 20), (3, 30)]"
      ]
     },
     "execution_count": 25,
     "metadata": {},
     "output_type": "execute_result"
    }
   ],
   "source": [
    "list(zip(l1, l2))"
   ]
  },
  {
   "cell_type": "code",
   "execution_count": 26,
   "id": "019384b7",
   "metadata": {},
   "outputs": [],
   "source": [
    "l3 = 'python'"
   ]
  },
  {
   "cell_type": "code",
   "execution_count": 27,
   "id": "47d9be3f",
   "metadata": {},
   "outputs": [
    {
     "data": {
      "text/plain": [
       "[(1, 10, 'p'), (2, 20, 'y'), (3, 30, 't')]"
      ]
     },
     "execution_count": 27,
     "metadata": {},
     "output_type": "execute_result"
    }
   ],
   "source": [
    "list(zip(l1, l2, l3))"
   ]
  },
  {
   "cell_type": "markdown",
   "id": "8d2ff41c",
   "metadata": {},
   "source": [
    "---"
   ]
  },
  {
   "cell_type": "markdown",
   "id": "b9939565",
   "metadata": {},
   "source": [
    "## Reducing functions ( also called *accumulators*, *aggregators* or *folding functions*)"
   ]
  },
  {
   "cell_type": "markdown",
   "id": "d0804ec9",
   "metadata": {},
   "source": [
    "Jak działa *reduce* funkcja krok po kroku"
   ]
  },
  {
   "cell_type": "markdown",
   "id": "9361047f",
   "metadata": {},
   "source": [
    "<img src=\"1.jpg\" alt=\"Alternative text\" />"
   ]
  },
  {
   "cell_type": "markdown",
   "id": "d261535e",
   "metadata": {},
   "source": [
    "### Przykład reduce funkcji"
   ]
  },
  {
   "cell_type": "code",
   "execution_count": 33,
   "id": "0d09614f",
   "metadata": {},
   "outputs": [],
   "source": [
    "add = lambda x, y: x+y\n",
    "\n",
    "def _reduce(func, sequence): # def reduce już istnieje w functools\n",
    "    result = sequence[0]\n",
    "    for i in sequence[1:]: # bo 0-wy element już został \"użyty\"\n",
    "        result = func(result, i)\n",
    "    return result"
   ]
  },
  {
   "cell_type": "code",
   "execution_count": 34,
   "id": "43f337ad",
   "metadata": {},
   "outputs": [
    {
     "data": {
      "text/plain": [
       "38"
      ]
     },
     "execution_count": 34,
     "metadata": {},
     "output_type": "execute_result"
    }
   ],
   "source": [
    "l = [5, 8, 6, 10, 9]\n",
    "\n",
    "_reduce(add, l)"
   ]
  },
  {
   "cell_type": "markdown",
   "id": "aa95f77f",
   "metadata": {},
   "source": [
    "---"
   ]
  },
  {
   "cell_type": "code",
   "execution_count": 35,
   "id": "19580c06",
   "metadata": {},
   "outputs": [],
   "source": [
    "from functools import reduce"
   ]
  },
  {
   "cell_type": "code",
   "execution_count": 36,
   "id": "f7d581b2",
   "metadata": {},
   "outputs": [
    {
     "data": {
      "text/plain": [
       "38"
      ]
     },
     "execution_count": 36,
     "metadata": {},
     "output_type": "execute_result"
    }
   ],
   "source": [
    "reduce(add, l)"
   ]
  },
  {
   "cell_type": "code",
   "execution_count": 39,
   "id": "5a3e89d4",
   "metadata": {},
   "outputs": [
    {
     "data": {
      "text/plain": [
       "38"
      ]
     },
     "execution_count": 39,
     "metadata": {},
     "output_type": "execute_result"
    }
   ],
   "source": [
    "reduce(lambda x, y: x+y, l) # suma wszystkich elementów"
   ]
  },
  {
   "cell_type": "code",
   "execution_count": 40,
   "id": "2069e98a",
   "metadata": {},
   "outputs": [
    {
     "data": {
      "text/plain": [
       "10"
      ]
     },
     "execution_count": 40,
     "metadata": {},
     "output_type": "execute_result"
    }
   ],
   "source": [
    "reduce(lambda x, y: x if x > y else y, l) # największy element"
   ]
  },
  {
   "cell_type": "code",
   "execution_count": 41,
   "id": "43525dc6",
   "metadata": {},
   "outputs": [
    {
     "data": {
      "text/plain": [
       "5"
      ]
     },
     "execution_count": 41,
     "metadata": {},
     "output_type": "execute_result"
    }
   ],
   "source": [
    "reduce(lambda x, y: x if x < y else y, l) # najmniejszy element"
   ]
  },
  {
   "cell_type": "code",
   "execution_count": 45,
   "id": "96f48b96",
   "metadata": {},
   "outputs": [
    {
     "data": {
      "text/plain": [
       "'python is awesome'"
      ]
     },
     "execution_count": 45,
     "metadata": {},
     "output_type": "execute_result"
    }
   ],
   "source": [
    "reduce(lambda a, b: a + ' ' + b, ('python', 'is', 'awesome'))\n",
    "# Kolejność\n",
    "# 'python' + 'is'\n",
    "# 'python is' + 'awesome'\n",
    "# 'python is awesome'"
   ]
  },
  {
   "cell_type": "markdown",
   "id": "d5f94ece",
   "metadata": {},
   "source": [
    "### Przykłady wbudowanych *reduce* funkcji"
   ]
  },
  {
   "cell_type": "code",
   "execution_count": 48,
   "id": "34aa730e",
   "metadata": {},
   "outputs": [
    {
     "data": {
      "text/plain": [
       "3"
      ]
     },
     "execution_count": 48,
     "metadata": {},
     "output_type": "execute_result"
    }
   ],
   "source": [
    "min([4, 12, 3, 6, 66])"
   ]
  },
  {
   "cell_type": "code",
   "execution_count": 49,
   "id": "0eaec56f",
   "metadata": {},
   "outputs": [
    {
     "data": {
      "text/plain": [
       "66"
      ]
     },
     "execution_count": 49,
     "metadata": {},
     "output_type": "execute_result"
    }
   ],
   "source": [
    "max([4, 12, 3, 6, 66])"
   ]
  },
  {
   "cell_type": "code",
   "execution_count": 50,
   "id": "bf13d668",
   "metadata": {},
   "outputs": [
    {
     "data": {
      "text/plain": [
       "91"
      ]
     },
     "execution_count": 50,
     "metadata": {},
     "output_type": "execute_result"
    }
   ],
   "source": [
    "sum([4, 12, 3, 6, 66])"
   ]
  },
  {
   "cell_type": "code",
   "execution_count": 52,
   "id": "02af1621",
   "metadata": {},
   "outputs": [
    {
     "data": {
      "text/plain": [
       "True"
      ]
     },
     "execution_count": 52,
     "metadata": {},
     "output_type": "execute_result"
    }
   ],
   "source": [
    "any([4, 12, 3, 6, 66]) # True jeśli przynajmniej jeden element prawdziwy"
   ]
  },
  {
   "cell_type": "code",
   "execution_count": 55,
   "id": "83a93939",
   "metadata": {},
   "outputs": [
    {
     "data": {
      "text/plain": [
       "False"
      ]
     },
     "execution_count": 55,
     "metadata": {},
     "output_type": "execute_result"
    }
   ],
   "source": [
    "all([4, 12, 3, 6, 0]) # True jeśli każdy element prawdziwy"
   ]
  },
  {
   "cell_type": "code",
   "execution_count": 56,
   "id": "4f2857cc",
   "metadata": {},
   "outputs": [
    {
     "data": {
      "text/plain": [
       "True"
      ]
     },
     "execution_count": 56,
     "metadata": {},
     "output_type": "execute_result"
    }
   ],
   "source": [
    "all([4, 12, 3, 6, 66])"
   ]
  },
  {
   "cell_type": "code",
   "execution_count": 62,
   "id": "1292c434",
   "metadata": {},
   "outputs": [
    {
     "name": "stdout",
     "output_type": "stream",
     "text": [
      "120\n",
      "[1, 2, 3, 4, 5]\n"
     ]
    }
   ],
   "source": [
    "# Factorial\n",
    "print(reduce(lambda x, y: x*y, range(1, 6)))\n",
    "print(list(range(1, 6)))"
   ]
  },
  {
   "cell_type": "code",
   "execution_count": null,
   "id": "28b123a0",
   "metadata": {},
   "outputs": [],
   "source": []
  }
 ],
 "metadata": {
  "kernelspec": {
   "display_name": "Python 3 (ipykernel)",
   "language": "python",
   "name": "python3"
  },
  "language_info": {
   "codemirror_mode": {
    "name": "ipython",
    "version": 3
   },
   "file_extension": ".py",
   "mimetype": "text/x-python",
   "name": "python",
   "nbconvert_exporter": "python",
   "pygments_lexer": "ipython3",
   "version": "3.10.8"
  }
 },
 "nbformat": 4,
 "nbformat_minor": 5
}
