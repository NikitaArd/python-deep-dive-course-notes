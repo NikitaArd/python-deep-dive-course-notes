{
 "cells": [
  {
   "cell_type": "markdown",
   "id": "d6705bf3",
   "metadata": {},
   "source": [
    "# Multiline statements"
   ]
  },
  {
   "cell_type": "code",
   "execution_count": null,
   "id": "17e62a4a",
   "metadata": {},
   "outputs": [],
   "source": [
    "def sumer(a, # Pierwszy parametr\n",
    "          b, # Drugi parametr\n",
    "         ):\n",
    "    return a + b"
   ]
  },
  {
   "cell_type": "code",
   "execution_count": 7,
   "id": "d57513e6",
   "metadata": {},
   "outputs": [
    {
     "name": "stdout",
     "output_type": "stream",
     "text": [
      "This\n",
      "is \n",
      "    multi\n",
      "    string\n",
      "!   !    !\n"
     ]
    }
   ],
   "source": [
    "print(\"\"\"This\n",
    "is \n",
    "    multi\n",
    "    string\n",
    "!   !    !\"\"\")"
   ]
  },
  {
   "cell_type": "code",
   "execution_count": 11,
   "id": "d49d6474",
   "metadata": {},
   "outputs": [
    {
     "data": {
      "text/plain": [
       "'This\\nis \\n    multi\\n    string\\n!   !    !'"
      ]
     },
     "execution_count": 11,
     "metadata": {},
     "output_type": "execute_result"
    }
   ],
   "source": [
    "\"\"\"This\n",
    "is \n",
    "    multi\n",
    "    string\n",
    "!   !    !\"\"\""
   ]
  },
  {
   "cell_type": "markdown",
   "id": "8e0d9338",
   "metadata": {},
   "source": []
  },
  {
   "cell_type": "code",
   "execution_count": 6,
   "id": "21b1dc6a",
   "metadata": {},
   "outputs": [
    {
     "name": "stdout",
     "output_type": "stream",
     "text": [
      "[OK]\n"
     ]
    }
   ],
   "source": [
    "# Multiline if statement\n",
    "a, b, c = 10, 20, 30\n",
    "if a > 5 \\\n",
    "    and b > 10 \\\n",
    "        and c > 20:\n",
    "    print('[OK]')"
   ]
  },
  {
   "cell_type": "markdown",
   "id": "3adcf4c0",
   "metadata": {},
   "source": [
    "## Functions"
   ]
  },
  {
   "cell_type": "code",
   "execution_count": 8,
   "id": "75a0221e",
   "metadata": {},
   "outputs": [],
   "source": [
    "# adnotacja typów w Pythonie nie jest obowiązkowa, stworzona tylko dla uproszczenia czytania kodu\n",
    "def func_2(a: int, b: int):\n",
    "    return a * b"
   ]
  },
  {
   "cell_type": "code",
   "execution_count": 10,
   "id": "6d67ea6e",
   "metadata": {},
   "outputs": [
    {
     "data": {
      "text/plain": [
       "'aaaaaa'"
      ]
     },
     "execution_count": 10,
     "metadata": {},
     "output_type": "execute_result"
    }
   ],
   "source": [
    "func_2('aa', 3)"
   ]
  },
  {
   "cell_type": "code",
   "execution_count": 12,
   "id": "0de6211a",
   "metadata": {},
   "outputs": [],
   "source": [
    "def func_3():\n",
    "    print('running func_3')"
   ]
  },
  {
   "cell_type": "code",
   "execution_count": 13,
   "id": "d35e73c0",
   "metadata": {},
   "outputs": [
    {
     "name": "stdout",
     "output_type": "stream",
     "text": [
      "running func_3\n"
     ]
    }
   ],
   "source": [
    "func_3()"
   ]
  },
  {
   "cell_type": "code",
   "execution_count": 14,
   "id": "bde595f3",
   "metadata": {},
   "outputs": [],
   "source": [
    "my_func = func_3"
   ]
  },
  {
   "cell_type": "code",
   "execution_count": 21,
   "id": "dbeaa16c",
   "metadata": {},
   "outputs": [
    {
     "data": {
      "text/plain": [
       "<function __main__.func_3()>"
      ]
     },
     "execution_count": 21,
     "metadata": {},
     "output_type": "execute_result"
    }
   ],
   "source": [
    "my_func"
   ]
  },
  {
   "cell_type": "markdown",
   "id": "839736b1",
   "metadata": {},
   "source": [
    "# Lambda"
   ]
  },
  {
   "cell_type": "code",
   "execution_count": 23,
   "id": "65446eeb",
   "metadata": {},
   "outputs": [
    {
     "data": {
      "text/plain": [
       "<function __main__.<lambda>(x)>"
      ]
     },
     "execution_count": 23,
     "metadata": {},
     "output_type": "execute_result"
    }
   ],
   "source": [
    "# lambda <parameter_name>: <return_value>\n",
    "lambda x: x**2"
   ]
  },
  {
   "cell_type": "code",
   "execution_count": 24,
   "id": "b204e7bd",
   "metadata": {},
   "outputs": [],
   "source": [
    "# Another way to create function (Avoiding def <func_name>)\n",
    "func_lambda = lambda x: x**2"
   ]
  },
  {
   "cell_type": "code",
   "execution_count": 25,
   "id": "5806f79f",
   "metadata": {},
   "outputs": [
    {
     "data": {
      "text/plain": [
       "4"
      ]
     },
     "execution_count": 25,
     "metadata": {},
     "output_type": "execute_result"
    }
   ],
   "source": [
    "func_lambda(2)"
   ]
  },
  {
   "cell_type": "markdown",
   "id": "87769716",
   "metadata": {},
   "source": [
    "# While Loop"
   ]
  },
  {
   "cell_type": "code",
   "execution_count": 26,
   "id": "fc974bae",
   "metadata": {},
   "outputs": [
    {
     "name": "stdout",
     "output_type": "stream",
     "text": [
      "5\n"
     ]
    }
   ],
   "source": [
    "# Jak zapisać do-while w Pythonie\n",
    "i = 5\n",
    "while True:\n",
    "    print(i)\n",
    "    \n",
    "    if i >= 5:\n",
    "        break"
   ]
  },
  {
   "cell_type": "code",
   "execution_count": 28,
   "id": "16a57bf3",
   "metadata": {},
   "outputs": [
    {
     "name": "stdout",
     "output_type": "stream",
     "text": [
      "Please enter your name: a\n",
      "Please enter your name: 123\n",
      "Please enter your name: Nikita\n",
      "Hello Nikita\n"
     ]
    }
   ],
   "source": [
    "max_length = 2\n",
    "\n",
    "while True:\n",
    "    name = input('Please enter your name: ')\n",
    "    if len(name) > max_length and name.isprintable() and name.isalpha():\n",
    "        break\n",
    "        \n",
    "print(f'Hello {name}')"
   ]
  }
 ],
 "metadata": {
  "kernelspec": {
   "display_name": "Python 3 (ipykernel)",
   "language": "python",
   "name": "python3"
  },
  "language_info": {
   "codemirror_mode": {
    "name": "ipython",
    "version": 3
   },
   "file_extension": ".py",
   "mimetype": "text/x-python",
   "name": "python",
   "nbconvert_exporter": "python",
   "pygments_lexer": "ipython3",
   "version": "3.10.8"
  }
 },
 "nbformat": 4,
 "nbformat_minor": 5
}
