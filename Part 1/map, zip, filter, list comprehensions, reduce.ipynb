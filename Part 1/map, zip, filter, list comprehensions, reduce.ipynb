{
 "cells": [
  {
   "cell_type": "markdown",
   "id": "ea561e86",
   "metadata": {},
   "source": [
    "## <code>map</code> function"
   ]
  },
  {
   "cell_type": "markdown",
   "id": "24def255",
   "metadata": {},
   "source": [
    "map(func, *iterables)"
   ]
  },
  {
   "cell_type": "code",
   "execution_count": 3,
   "id": "d094fcb8",
   "metadata": {},
   "outputs": [],
   "source": [
    "l = [2, 3, 4]\n",
    "def sq(x):\n",
    "    return x**2"
   ]
  },
  {
   "cell_type": "code",
   "execution_count": 5,
   "id": "64a4c6e0",
   "metadata": {},
   "outputs": [
    {
     "data": {
      "text/plain": [
       "<map at 0x10d6e82e0>"
      ]
     },
     "execution_count": 5,
     "metadata": {},
     "output_type": "execute_result"
    }
   ],
   "source": [
    "map(sq, l) # zwraca iterator"
   ]
  },
  {
   "cell_type": "code",
   "execution_count": 6,
   "id": "d0ca6b65",
   "metadata": {},
   "outputs": [
    {
     "data": {
      "text/plain": [
       "[4, 9, 16]"
      ]
     },
     "execution_count": 6,
     "metadata": {},
     "output_type": "execute_result"
    }
   ],
   "source": [
    "list(map(sq, l))"
   ]
  },
  {
   "cell_type": "code",
   "execution_count": 7,
   "id": "1442c9e0",
   "metadata": {},
   "outputs": [],
   "source": [
    "# Jeśli jedna z l1 będzie miała więcej objeków niż l2, funkcja map zatrzyma się na ostatnim elemntu KRÓTSZEJ listy\n",
    "l1 = [1, 2, 3]\n",
    "l2 = [10, 20, 30]\n",
    "\n",
    "def add(x, y):\n",
    "    return x+y"
   ]
  },
  {
   "cell_type": "code",
   "execution_count": 9,
   "id": "173025f1",
   "metadata": {},
   "outputs": [
    {
     "data": {
      "text/plain": [
       "[11, 22, 33]"
      ]
     },
     "execution_count": 9,
     "metadata": {},
     "output_type": "execute_result"
    }
   ],
   "source": [
    "list(map(add, l1, l2))"
   ]
  },
  {
   "cell_type": "code",
   "execution_count": 11,
   "id": "0a70538c",
   "metadata": {},
   "outputs": [
    {
     "data": {
      "text/plain": [
       "[11, 22, 33]"
      ]
     },
     "execution_count": 11,
     "metadata": {},
     "output_type": "execute_result"
    }
   ],
   "source": [
    "# Albo z lambda\n",
    "list(map(lambda x, y: x+y, l1, l2))"
   ]
  },
  {
   "cell_type": "markdown",
   "id": "2421eeca",
   "metadata": {},
   "source": [
    "---"
   ]
  },
  {
   "cell_type": "markdown",
   "id": "451b2eff",
   "metadata": {},
   "source": [
    "## <code>filter</code> function"
   ]
  },
  {
   "cell_type": "markdown",
   "id": "46e9f97f",
   "metadata": {},
   "source": [
    "filter(fucn, iterable) # func ma tylko jeden argument"
   ]
  },
  {
   "cell_type": "code",
   "execution_count": 13,
   "id": "c2a5faf2",
   "metadata": {},
   "outputs": [
    {
     "data": {
      "text/plain": [
       "[1, 2, 3, 4]"
      ]
     },
     "execution_count": 13,
     "metadata": {},
     "output_type": "execute_result"
    }
   ],
   "source": [
    "l = [0, 1, 2, 3, 4]\n",
    "list(filter(None, l))"
   ]
  },
  {
   "cell_type": "code",
   "execution_count": 20,
   "id": "ac7a4a15",
   "metadata": {},
   "outputs": [],
   "source": [
    "def is_even(x):\n",
    "    return x % 2 == 0"
   ]
  },
  {
   "cell_type": "code",
   "execution_count": 21,
   "id": "136f91c9",
   "metadata": {},
   "outputs": [
    {
     "data": {
      "text/plain": [
       "[0, 2, 4]"
      ]
     },
     "execution_count": 21,
     "metadata": {},
     "output_type": "execute_result"
    }
   ],
   "source": [
    "list(filter(is_even, l))"
   ]
  },
  {
   "cell_type": "markdown",
   "id": "97702745",
   "metadata": {},
   "source": [
    "## <code>zip</code> function"
   ]
  },
  {
   "cell_type": "markdown",
   "id": "011614a1",
   "metadata": {},
   "source": [
    "zip(*itarables)"
   ]
  },
  {
   "cell_type": "code",
   "execution_count": 23,
   "id": "9c701d72",
   "metadata": {},
   "outputs": [],
   "source": [
    "l1 = [1, 2, 3]\n",
    "l2 = [10, 20, 30]"
   ]
  },
  {
   "cell_type": "code",
   "execution_count": 25,
   "id": "4744ca3b",
   "metadata": {},
   "outputs": [
    {
     "data": {
      "text/plain": [
       "[(1, 10), (2, 20), (3, 30)]"
      ]
     },
     "execution_count": 25,
     "metadata": {},
     "output_type": "execute_result"
    }
   ],
   "source": [
    "list(zip(l1, l2))"
   ]
  },
  {
   "cell_type": "code",
   "execution_count": 26,
   "id": "019384b7",
   "metadata": {},
   "outputs": [],
   "source": [
    "l3 = 'python'"
   ]
  },
  {
   "cell_type": "code",
   "execution_count": 27,
   "id": "47d9be3f",
   "metadata": {},
   "outputs": [
    {
     "data": {
      "text/plain": [
       "[(1, 10, 'p'), (2, 20, 'y'), (3, 30, 't')]"
      ]
     },
     "execution_count": 27,
     "metadata": {},
     "output_type": "execute_result"
    }
   ],
   "source": [
    "list(zip(l1, l2, l3))"
   ]
  },
  {
   "cell_type": "markdown",
   "id": "8d2ff41c",
   "metadata": {},
   "source": [
    "---"
   ]
  },
  {
   "cell_type": "markdown",
   "id": "b9939565",
   "metadata": {},
   "source": [
    "## Reducing functions ( also called *accumulators*, *aggregators* or *folding functions*)"
   ]
  },
  {
   "cell_type": "markdown",
   "id": "d0804ec9",
   "metadata": {},
   "source": [
    "Jak działa *reduce* funkcja krok po kroku"
   ]
  },
  {
   "cell_type": "markdown",
   "id": "9361047f",
   "metadata": {},
   "source": [
    "<img src=\"1.jpg\" alt=\"Alternative text\" />"
   ]
  },
  {
   "cell_type": "markdown",
   "id": "d261535e",
   "metadata": {},
   "source": [
    "### Przykład reduce funkcji"
   ]
  },
  {
   "cell_type": "code",
   "execution_count": 33,
   "id": "0d09614f",
   "metadata": {},
   "outputs": [],
   "source": [
    "add = lambda x, y: x+y\n",
    "\n",
    "def _reduce(func, sequence): # def reduce już istnieje w functools\n",
    "    result = sequence[0]\n",
    "    for i in sequence[1:]: # bo 0-wy element już został \"użyty\"\n",
    "        result = func(result, i)\n",
    "    return result"
   ]
  },
  {
   "cell_type": "code",
   "execution_count": 34,
   "id": "43f337ad",
   "metadata": {},
   "outputs": [
    {
     "data": {
      "text/plain": [
       "38"
      ]
     },
     "execution_count": 34,
     "metadata": {},
     "output_type": "execute_result"
    }
   ],
   "source": [
    "l = [5, 8, 6, 10, 9]\n",
    "\n",
    "_reduce(add, l)"
   ]
  },
  {
   "cell_type": "markdown",
   "id": "aa95f77f",
   "metadata": {},
   "source": [
    "---"
   ]
  },
  {
   "cell_type": "code",
   "execution_count": 35,
   "id": "19580c06",
   "metadata": {},
   "outputs": [],
   "source": [
    "from functools import reduce"
   ]
  },
  {
   "cell_type": "code",
   "execution_count": 36,
   "id": "f7d581b2",
   "metadata": {},
   "outputs": [
    {
     "data": {
      "text/plain": [
       "38"
      ]
     },
     "execution_count": 36,
     "metadata": {},
     "output_type": "execute_result"
    }
   ],
   "source": [
    "reduce(add, l)"
   ]
  },
  {
   "cell_type": "code",
   "execution_count": 39,
   "id": "5a3e89d4",
   "metadata": {},
   "outputs": [
    {
     "data": {
      "text/plain": [
       "38"
      ]
     },
     "execution_count": 39,
     "metadata": {},
     "output_type": "execute_result"
    }
   ],
   "source": [
    "reduce(lambda x, y: x+y, l) # suma wszystkich elementów"
   ]
  },
  {
   "cell_type": "code",
   "execution_count": 40,
   "id": "2069e98a",
   "metadata": {},
   "outputs": [
    {
     "data": {
      "text/plain": [
       "10"
      ]
     },
     "execution_count": 40,
     "metadata": {},
     "output_type": "execute_result"
    }
   ],
   "source": [
    "reduce(lambda x, y: x if x > y else y, l) # największy element"
   ]
  },
  {
   "cell_type": "code",
   "execution_count": 41,
   "id": "43525dc6",
   "metadata": {},
   "outputs": [
    {
     "data": {
      "text/plain": [
       "5"
      ]
     },
     "execution_count": 41,
     "metadata": {},
     "output_type": "execute_result"
    }
   ],
   "source": [
    "reduce(lambda x, y: x if x < y else y, l) # najmniejszy element"
   ]
  },
  {
   "cell_type": "code",
   "execution_count": 45,
   "id": "96f48b96",
   "metadata": {},
   "outputs": [
    {
     "data": {
      "text/plain": [
       "'python is awesome'"
      ]
     },
     "execution_count": 45,
     "metadata": {},
     "output_type": "execute_result"
    }
   ],
   "source": [
    "reduce(lambda a, b: a + ' ' + b, ('python', 'is', 'awesome'))\n",
    "# Kolejność\n",
    "# 'python' + 'is'\n",
    "# 'python is' + 'awesome'\n",
    "# 'python is awesome'"
   ]
  },
  {
   "cell_type": "markdown",
   "id": "d5f94ece",
   "metadata": {},
   "source": [
    "### Przykłady wbudowanych *reduce* funkcji"
   ]
  },
  {
   "cell_type": "code",
   "execution_count": 48,
   "id": "34aa730e",
   "metadata": {},
   "outputs": [
    {
     "data": {
      "text/plain": [
       "3"
      ]
     },
     "execution_count": 48,
     "metadata": {},
     "output_type": "execute_result"
    }
   ],
   "source": [
    "min([4, 12, 3, 6, 66])"
   ]
  },
  {
   "cell_type": "code",
   "execution_count": 49,
   "id": "0eaec56f",
   "metadata": {},
   "outputs": [
    {
     "data": {
      "text/plain": [
       "66"
      ]
     },
     "execution_count": 49,
     "metadata": {},
     "output_type": "execute_result"
    }
   ],
   "source": [
    "max([4, 12, 3, 6, 66])"
   ]
  },
  {
   "cell_type": "code",
   "execution_count": 50,
   "id": "bf13d668",
   "metadata": {},
   "outputs": [
    {
     "data": {
      "text/plain": [
       "91"
      ]
     },
     "execution_count": 50,
     "metadata": {},
     "output_type": "execute_result"
    }
   ],
   "source": [
    "sum([4, 12, 3, 6, 66])"
   ]
  },
  {
   "cell_type": "code",
   "execution_count": 52,
   "id": "02af1621",
   "metadata": {},
   "outputs": [
    {
     "data": {
      "text/plain": [
       "True"
      ]
     },
     "execution_count": 52,
     "metadata": {},
     "output_type": "execute_result"
    }
   ],
   "source": [
    "any([4, 12, 3, 6, 66]) # True jeśli przynajmniej jeden element prawdziwy"
   ]
  },
  {
   "cell_type": "code",
   "execution_count": 55,
   "id": "83a93939",
   "metadata": {},
   "outputs": [
    {
     "data": {
      "text/plain": [
       "False"
      ]
     },
     "execution_count": 55,
     "metadata": {},
     "output_type": "execute_result"
    }
   ],
   "source": [
    "all([4, 12, 3, 6, 0]) # True jeśli każdy element prawdziwy"
   ]
  },
  {
   "cell_type": "code",
   "execution_count": 56,
   "id": "4f2857cc",
   "metadata": {},
   "outputs": [
    {
     "data": {
      "text/plain": [
       "True"
      ]
     },
     "execution_count": 56,
     "metadata": {},
     "output_type": "execute_result"
    }
   ],
   "source": [
    "all([4, 12, 3, 6, 66])"
   ]
  },
  {
   "cell_type": "code",
   "execution_count": 62,
   "id": "1292c434",
   "metadata": {
    "scrolled": true
   },
   "outputs": [
    {
     "name": "stdout",
     "output_type": "stream",
     "text": [
      "120\n",
      "[1, 2, 3, 4, 5]\n"
     ]
    }
   ],
   "source": [
    "# Factorial\n",
    "print(reduce(lambda x, y: x*y, range(1, 6)))\n",
    "print(list(range(1, 6)))"
   ]
  },
  {
   "cell_type": "markdown",
   "id": "ddf556b0",
   "metadata": {},
   "source": [
    "---"
   ]
  },
  {
   "cell_type": "code",
   "execution_count": 63,
   "id": "0584f961",
   "metadata": {},
   "outputs": [],
   "source": [
    "def _reduce(func, sequence):\n",
    "    result = sequence[0]\n",
    "    for i in sequence[1:]:\n",
    "        result = func(result, i)\n",
    "    return result"
   ]
  },
  {
   "cell_type": "code",
   "execution_count": 65,
   "id": "616a13bb",
   "metadata": {},
   "outputs": [],
   "source": [
    "_min = lambda x, y: x if x > y else y # bo min już istnieje\n",
    "l = {10, 2, 12, 53, 56, 6, 98}"
   ]
  },
  {
   "cell_type": "code",
   "execution_count": 66,
   "id": "933ae1a7",
   "metadata": {},
   "outputs": [
    {
     "ename": "TypeError",
     "evalue": "'set' object is not subscriptable",
     "output_type": "error",
     "traceback": [
      "\u001b[0;31m---------------------------------------------------------------------------\u001b[0m",
      "\u001b[0;31mTypeError\u001b[0m                                 Traceback (most recent call last)",
      "Cell \u001b[0;32mIn[66], line 1\u001b[0m\n\u001b[0;32m----> 1\u001b[0m \u001b[43m_reduce\u001b[49m\u001b[43m(\u001b[49m\u001b[43m_min\u001b[49m\u001b[43m,\u001b[49m\u001b[43m \u001b[49m\u001b[43ml\u001b[49m\u001b[43m)\u001b[49m\n",
      "Cell \u001b[0;32mIn[63], line 2\u001b[0m, in \u001b[0;36m_reduce\u001b[0;34m(func, sequence)\u001b[0m\n\u001b[1;32m      1\u001b[0m \u001b[38;5;28;01mdef\u001b[39;00m \u001b[38;5;21m_reduce\u001b[39m(func, sequence):\n\u001b[0;32m----> 2\u001b[0m     result \u001b[38;5;241m=\u001b[39m \u001b[43msequence\u001b[49m\u001b[43m[\u001b[49m\u001b[38;5;241;43m0\u001b[39;49m\u001b[43m]\u001b[49m\n\u001b[1;32m      3\u001b[0m     \u001b[38;5;28;01mfor\u001b[39;00m i \u001b[38;5;129;01min\u001b[39;00m sequence[\u001b[38;5;241m1\u001b[39m:]:\n\u001b[1;32m      4\u001b[0m         result \u001b[38;5;241m=\u001b[39m func(result, i)\n",
      "\u001b[0;31mTypeError\u001b[0m: 'set' object is not subscriptable"
     ]
    }
   ],
   "source": [
    "_reduce(_min, l) # bo sety nie obsługują indeksów"
   ]
  },
  {
   "cell_type": "code",
   "execution_count": 68,
   "id": "3fde9506",
   "metadata": {},
   "outputs": [
    {
     "data": {
      "text/plain": [
       "98"
      ]
     },
     "execution_count": 68,
     "metadata": {},
     "output_type": "execute_result"
    }
   ],
   "source": [
    "reduce(_min, l) # Natomiast wbudowana funkcja potrafi to zrobic"
   ]
  },
  {
   "cell_type": "markdown",
   "id": "10ac956b",
   "metadata": {},
   "source": [
    "---"
   ]
  },
  {
   "cell_type": "markdown",
   "id": "3a8049cf",
   "metadata": {},
   "source": [
    "## Partial function"
   ]
  },
  {
   "cell_type": "code",
   "execution_count": 1,
   "id": "bd8ddf30",
   "metadata": {},
   "outputs": [],
   "source": [
    "from functools import partial"
   ]
  },
  {
   "cell_type": "code",
   "execution_count": 2,
   "id": "38e554ce",
   "metadata": {},
   "outputs": [],
   "source": [
    "def my_func(a, b, c):\n",
    "    return a, b, c"
   ]
  },
  {
   "cell_type": "code",
   "execution_count": 3,
   "id": "78f342fe",
   "metadata": {},
   "outputs": [
    {
     "data": {
      "text/plain": [
       "(10, 20, 30)"
      ]
     },
     "execution_count": 3,
     "metadata": {},
     "output_type": "execute_result"
    }
   ],
   "source": [
    "my_func(10, 20, 30)"
   ]
  },
  {
   "cell_type": "code",
   "execution_count": 6,
   "id": "45349398",
   "metadata": {},
   "outputs": [],
   "source": [
    "f = partial(my_func, 10) # ustawiamy domyślną wartość dla zmiennej `a`"
   ]
  },
  {
   "cell_type": "code",
   "execution_count": 7,
   "id": "eb8f4eeb",
   "metadata": {},
   "outputs": [
    {
     "data": {
      "text/plain": [
       "(10, 200, 300)"
      ]
     },
     "execution_count": 7,
     "metadata": {},
     "output_type": "execute_result"
    }
   ],
   "source": [
    "f(200, 300)"
   ]
  },
  {
   "cell_type": "markdown",
   "id": "35544518",
   "metadata": {},
   "source": [
    "---"
   ]
  },
  {
   "cell_type": "code",
   "execution_count": 8,
   "id": "e63bf226",
   "metadata": {},
   "outputs": [],
   "source": [
    "f1 = lambda x, y: my_func(10, x, y) # ustawiamy domyślną wartość dla zmiennej `a`"
   ]
  },
  {
   "cell_type": "code",
   "execution_count": 9,
   "id": "c567d04f",
   "metadata": {},
   "outputs": [
    {
     "data": {
      "text/plain": [
       "(10, 200, 300)"
      ]
     },
     "execution_count": 9,
     "metadata": {},
     "output_type": "execute_result"
    }
   ],
   "source": [
    "f1(200, 300)"
   ]
  },
  {
   "cell_type": "markdown",
   "id": "a70339b4",
   "metadata": {},
   "source": [
    " ---"
   ]
  },
  {
   "cell_type": "markdown",
   "id": "c071796b",
   "metadata": {},
   "source": [
    "## Operator module"
   ]
  },
  {
   "cell_type": "code",
   "execution_count": 1,
   "id": "8ca8d1fc",
   "metadata": {},
   "outputs": [],
   "source": [
    "import operator"
   ]
  },
  {
   "cell_type": "code",
   "execution_count": 2,
   "id": "d85dfe37",
   "metadata": {},
   "outputs": [
    {
     "data": {
      "text/plain": [
       "['__abs__',\n",
       " '__add__',\n",
       " '__all__',\n",
       " '__and__',\n",
       " '__builtins__',\n",
       " '__cached__',\n",
       " '__concat__',\n",
       " '__contains__',\n",
       " '__delitem__',\n",
       " '__doc__',\n",
       " '__eq__',\n",
       " '__file__',\n",
       " '__floordiv__',\n",
       " '__ge__',\n",
       " '__getitem__',\n",
       " '__gt__',\n",
       " '__iadd__',\n",
       " '__iand__',\n",
       " '__iconcat__',\n",
       " '__ifloordiv__',\n",
       " '__ilshift__',\n",
       " '__imatmul__',\n",
       " '__imod__',\n",
       " '__imul__',\n",
       " '__index__',\n",
       " '__inv__',\n",
       " '__invert__',\n",
       " '__ior__',\n",
       " '__ipow__',\n",
       " '__irshift__',\n",
       " '__isub__',\n",
       " '__itruediv__',\n",
       " '__ixor__',\n",
       " '__le__',\n",
       " '__loader__',\n",
       " '__lshift__',\n",
       " '__lt__',\n",
       " '__matmul__',\n",
       " '__mod__',\n",
       " '__mul__',\n",
       " '__name__',\n",
       " '__ne__',\n",
       " '__neg__',\n",
       " '__not__',\n",
       " '__or__',\n",
       " '__package__',\n",
       " '__pos__',\n",
       " '__pow__',\n",
       " '__rshift__',\n",
       " '__setitem__',\n",
       " '__spec__',\n",
       " '__sub__',\n",
       " '__truediv__',\n",
       " '__xor__',\n",
       " '_abs',\n",
       " 'abs',\n",
       " 'add',\n",
       " 'and_',\n",
       " 'attrgetter',\n",
       " 'concat',\n",
       " 'contains',\n",
       " 'countOf',\n",
       " 'delitem',\n",
       " 'eq',\n",
       " 'floordiv',\n",
       " 'ge',\n",
       " 'getitem',\n",
       " 'gt',\n",
       " 'iadd',\n",
       " 'iand',\n",
       " 'iconcat',\n",
       " 'ifloordiv',\n",
       " 'ilshift',\n",
       " 'imatmul',\n",
       " 'imod',\n",
       " 'imul',\n",
       " 'index',\n",
       " 'indexOf',\n",
       " 'inv',\n",
       " 'invert',\n",
       " 'ior',\n",
       " 'ipow',\n",
       " 'irshift',\n",
       " 'is_',\n",
       " 'is_not',\n",
       " 'isub',\n",
       " 'itemgetter',\n",
       " 'itruediv',\n",
       " 'ixor',\n",
       " 'le',\n",
       " 'length_hint',\n",
       " 'lshift',\n",
       " 'lt',\n",
       " 'matmul',\n",
       " 'methodcaller',\n",
       " 'mod',\n",
       " 'mul',\n",
       " 'ne',\n",
       " 'neg',\n",
       " 'not_',\n",
       " 'or_',\n",
       " 'pos',\n",
       " 'pow',\n",
       " 'rshift',\n",
       " 'setitem',\n",
       " 'sub',\n",
       " 'truediv',\n",
       " 'truth',\n",
       " 'xor']"
      ]
     },
     "execution_count": 2,
     "metadata": {},
     "output_type": "execute_result"
    }
   ],
   "source": [
    "dir(operator)"
   ]
  },
  {
   "cell_type": "markdown",
   "id": "34c3f9ec",
   "metadata": {},
   "source": [
    "### Przykład gdzie można użyć funkcje z `operator`"
   ]
  },
  {
   "cell_type": "code",
   "execution_count": 3,
   "id": "d40dc047",
   "metadata": {},
   "outputs": [],
   "source": [
    "from functools import reduce"
   ]
  },
  {
   "cell_type": "code",
   "execution_count": 4,
   "id": "294b0cf1",
   "metadata": {},
   "outputs": [
    {
     "data": {
      "text/plain": [
       "24"
      ]
     },
     "execution_count": 4,
     "metadata": {},
     "output_type": "execute_result"
    }
   ],
   "source": [
    "reduce(lambda x, y: x*y, [1, 2, 3, 4 # tworzymy \"nową\" funkcje ( lambda )"
   ]
  },
  {
   "cell_type": "code",
   "execution_count": 5,
   "id": "d096ad2d",
   "metadata": {},
   "outputs": [],
   "source": [
    "from operator import mul"
   ]
  },
  {
   "cell_type": "code",
   "execution_count": 6,
   "id": "fcbc5e5f",
   "metadata": {},
   "outputs": [
    {
     "data": {
      "text/plain": [
       "24"
      ]
     },
     "execution_count": 6,
     "metadata": {},
     "output_type": "execute_result"
    }
   ],
   "source": [
    "reduce(mul, [1, 2, 3, 4]) # używamy istniejącej funkcji"
   ]
  },
  {
   "cell_type": "code",
   "execution_count": null,
   "id": "3cd53f46",
   "metadata": {},
   "outputs": [],
   "source": []
  }
 ],
 "metadata": {
  "kernelspec": {
   "display_name": "Python 3 (ipykernel)",
   "language": "python",
   "name": "python3"
  },
  "language_info": {
   "codemirror_mode": {
    "name": "ipython",
    "version": 3
   },
   "file_extension": ".py",
   "mimetype": "text/x-python",
   "name": "python",
   "nbconvert_exporter": "python",
   "pygments_lexer": "ipython3",
   "version": "3.10.8"
  }
 },
 "nbformat": 4,
 "nbformat_minor": 5
}
