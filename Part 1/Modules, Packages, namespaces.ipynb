{
 "cells": [
  {
   "cell_type": "markdown",
   "id": "7cced42d",
   "metadata": {},
   "source": [
    "Spis treści\n",
    "\n",
    " - [ModuleType](#ModuleType)\n",
    " - [How Python imports modules](#How-Python-imports-modules)"
   ]
  },
  {
   "cell_type": "markdown",
   "id": "780d8c26",
   "metadata": {},
   "source": [
    "# ModuleType"
   ]
  },
  {
   "cell_type": "code",
   "execution_count": 2,
   "id": "0f6bc07b",
   "metadata": {},
   "outputs": [],
   "source": [
    "from types import ModuleType"
   ]
  },
  {
   "cell_type": "code",
   "execution_count": 3,
   "id": "677d1cc3",
   "metadata": {},
   "outputs": [],
   "source": [
    "import fractions"
   ]
  },
  {
   "cell_type": "code",
   "execution_count": 4,
   "id": "e616a2a8",
   "metadata": {},
   "outputs": [
    {
     "data": {
      "text/plain": [
       "True"
      ]
     },
     "execution_count": 4,
     "metadata": {},
     "output_type": "execute_result"
    }
   ],
   "source": [
    "isinstance(fractions, ModuleType)"
   ]
  },
  {
   "cell_type": "markdown",
   "id": "c46dd2b0",
   "metadata": {},
   "source": [
    "W Pythonie module też są objektami, i mają swoje metody i atrybuty"
   ]
  },
  {
   "cell_type": "code",
   "execution_count": 6,
   "id": "ae8850e7",
   "metadata": {},
   "outputs": [
    {
     "data": {
      "text/plain": [
       "'/Library/Frameworks/Python.framework/Versions/3.10/lib/python3.10/fractions.py'"
      ]
     },
     "execution_count": 6,
     "metadata": {},
     "output_type": "execute_result"
    }
   ],
   "source": [
    "fractions.__file__ # Położenie pliku modula"
   ]
  },
  {
   "cell_type": "code",
   "execution_count": 7,
   "id": "4d4e6d19",
   "metadata": {},
   "outputs": [
    {
     "name": "stdout",
     "output_type": "stream",
     "text": [
      "Help on class module in module builtins:\n",
      "\n",
      "class module(object)\n",
      " |  module(name, doc=None)\n",
      " |  \n",
      " |  Create a module object.\n",
      " |  \n",
      " |  The name must be a string; the optional doc argument can have any type.\n",
      " |  \n",
      " |  Methods defined here:\n",
      " |  \n",
      " |  __delattr__(self, name, /)\n",
      " |      Implement delattr(self, name).\n",
      " |  \n",
      " |  __dir__(...)\n",
      " |      __dir__() -> list\n",
      " |      specialized dir() implementation\n",
      " |  \n",
      " |  __getattribute__(self, name, /)\n",
      " |      Return getattr(self, name).\n",
      " |  \n",
      " |  __init__(self, /, *args, **kwargs)\n",
      " |      Initialize self.  See help(type(self)) for accurate signature.\n",
      " |  \n",
      " |  __repr__(self, /)\n",
      " |      Return repr(self).\n",
      " |  \n",
      " |  __setattr__(self, name, value, /)\n",
      " |      Implement setattr(self, name, value).\n",
      " |  \n",
      " |  ----------------------------------------------------------------------\n",
      " |  Static methods defined here:\n",
      " |  \n",
      " |  __new__(*args, **kwargs) from builtins.type\n",
      " |      Create and return a new object.  See help(type) for accurate signature.\n",
      " |  \n",
      " |  ----------------------------------------------------------------------\n",
      " |  Data descriptors defined here:\n",
      " |  \n",
      " |  __annotations__\n",
      " |  \n",
      " |  __dict__\n",
      "\n"
     ]
    }
   ],
   "source": [
    "help(ModuleType)"
   ]
  },
  {
   "cell_type": "code",
   "execution_count": 8,
   "id": "3451cc4b",
   "metadata": {},
   "outputs": [],
   "source": [
    "mod = ModuleType('test', 'This is test module') # Instancja klasy ModuleType"
   ]
  },
  {
   "cell_type": "code",
   "execution_count": 9,
   "id": "5813174e",
   "metadata": {},
   "outputs": [
    {
     "name": "stdout",
     "output_type": "stream",
     "text": [
      "Help on module test:\n",
      "\n",
      "NAME\n",
      "    test - This is test module\n",
      "\n",
      "FILE\n",
      "    (built-in)\n",
      "\n",
      "\n"
     ]
    }
   ],
   "source": [
    "help(mod)"
   ]
  },
  {
   "cell_type": "code",
   "execution_count": 10,
   "id": "932c08b8",
   "metadata": {},
   "outputs": [
    {
     "data": {
      "text/plain": [
       "{'__name__': 'test',\n",
       " '__doc__': 'This is test module',\n",
       " '__package__': None,\n",
       " '__loader__': None,\n",
       " '__spec__': None}"
      ]
     },
     "execution_count": 10,
     "metadata": {},
     "output_type": "execute_result"
    }
   ],
   "source": [
    "mod.__dict__"
   ]
  },
  {
   "cell_type": "code",
   "execution_count": 12,
   "id": "dbbf5e2b",
   "metadata": {},
   "outputs": [
    {
     "data": {
      "text/plain": [
       "True"
      ]
     },
     "execution_count": 12,
     "metadata": {},
     "output_type": "execute_result"
    }
   ],
   "source": [
    "isinstance(mod, ModuleType)"
   ]
  },
  {
   "cell_type": "markdown",
   "id": "301e8680",
   "metadata": {},
   "source": [
    "# How Python imports modules"
   ]
  },
  {
   "cell_type": "markdown",
   "id": "51ada67c",
   "metadata": {},
   "source": [
    "<h3 style=\"color: red;\">[ ! ] DONT DO THIS IN YOUR CODE [ ! ]</h3>"
   ]
  },
  {
   "cell_type": "code",
   "execution_count": 13,
   "id": "6c328f9d",
   "metadata": {},
   "outputs": [],
   "source": [
    "import fractions"
   ]
  },
  {
   "cell_type": "code",
   "execution_count": 14,
   "id": "a3016cd2",
   "metadata": {},
   "outputs": [],
   "source": [
    "import sys"
   ]
  },
  {
   "cell_type": "code",
   "execution_count": 15,
   "id": "83731dff",
   "metadata": {},
   "outputs": [
    {
     "data": {
      "text/plain": [
       "<module 'fractions' from '/Library/Frameworks/Python.framework/Versions/3.10/lib/python3.10/fractions.py'>"
      ]
     },
     "execution_count": 15,
     "metadata": {},
     "output_type": "execute_result"
    }
   ],
   "source": [
    "sys.modules['fractions']"
   ]
  },
  {
   "cell_type": "code",
   "execution_count": 16,
   "id": "54f8d85c",
   "metadata": {},
   "outputs": [],
   "source": [
    "sys.modules['fractions'] = lambda: 'HAHA this is not a fructions module'"
   ]
  },
  {
   "cell_type": "code",
   "execution_count": 18,
   "id": "05d3771b",
   "metadata": {},
   "outputs": [],
   "source": [
    "import fractions"
   ]
  },
  {
   "cell_type": "code",
   "execution_count": 19,
   "id": "066e08f0",
   "metadata": {},
   "outputs": [
    {
     "data": {
      "text/plain": [
       "'HAHA this is not a fructions module'"
      ]
     },
     "execution_count": 19,
     "metadata": {},
     "output_type": "execute_result"
    }
   ],
   "source": [
    "fractions()"
   ]
  },
  {
   "cell_type": "code",
   "execution_count": null,
   "id": "1f49e111",
   "metadata": {},
   "outputs": [],
   "source": []
  },
  {
   "cell_type": "code",
   "execution_count": null,
   "id": "a89ee42f",
   "metadata": {},
   "outputs": [],
   "source": []
  },
  {
   "cell_type": "code",
   "execution_count": null,
   "id": "80decf57",
   "metadata": {},
   "outputs": [],
   "source": []
  },
  {
   "cell_type": "code",
   "execution_count": null,
   "id": "9da9c00a",
   "metadata": {},
   "outputs": [],
   "source": []
  },
  {
   "cell_type": "code",
   "execution_count": null,
   "id": "0aa49eb3",
   "metadata": {},
   "outputs": [],
   "source": []
  },
  {
   "cell_type": "code",
   "execution_count": null,
   "id": "3784e73f",
   "metadata": {},
   "outputs": [],
   "source": []
  },
  {
   "cell_type": "code",
   "execution_count": null,
   "id": "fc4125dd",
   "metadata": {},
   "outputs": [],
   "source": []
  },
  {
   "cell_type": "code",
   "execution_count": null,
   "id": "5bd25c21",
   "metadata": {},
   "outputs": [],
   "source": []
  },
  {
   "cell_type": "code",
   "execution_count": null,
   "id": "7a20cbdd",
   "metadata": {},
   "outputs": [],
   "source": []
  },
  {
   "cell_type": "code",
   "execution_count": 4,
   "id": "726b53fe",
   "metadata": {},
   "outputs": [],
   "source": [
    "import random\n",
    "\n",
    "list_of_random = list()\n",
    "\n",
    "for i in range(1_000):\n",
    "    list_of_random.append(random.randint(0, 10))"
   ]
  },
  {
   "cell_type": "code",
   "execution_count": 10,
   "id": "aa4366f2",
   "metadata": {},
   "outputs": [],
   "source": [
    "stats = dict()\n",
    "\n",
    "for i in set(list_of_random):\n",
    "    stats[i] = list_of_random.count(i)"
   ]
  },
  {
   "cell_type": "code",
   "execution_count": 11,
   "id": "dc52759f",
   "metadata": {},
   "outputs": [
    {
     "name": "stdout",
     "output_type": "stream",
     "text": [
      "{0: 87, 1: 106, 2: 94, 3: 82, 4: 80, 5: 97, 6: 85, 7: 105, 8: 101, 9: 84, 10: 79}\n"
     ]
    }
   ],
   "source": [
    "print(stats) "
   ]
  }
 ],
 "metadata": {
  "kernelspec": {
   "display_name": "Python 3 (ipykernel)",
   "language": "python",
   "name": "python3"
  },
  "language_info": {
   "codemirror_mode": {
    "name": "ipython",
    "version": 3
   },
   "file_extension": ".py",
   "mimetype": "text/x-python",
   "name": "python",
   "nbconvert_exporter": "python",
   "pygments_lexer": "ipython3",
   "version": "3.10.8"
  }
 },
 "nbformat": 4,
 "nbformat_minor": 5
}
