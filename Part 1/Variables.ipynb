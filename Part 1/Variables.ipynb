{
 "cells": [
  {
   "cell_type": "markdown",
   "id": "95c74692",
   "metadata": {},
   "source": [
    "# Variables | Zmienne"
   ]
  },
  {
   "cell_type": "markdown",
   "id": "f4363da9",
   "metadata": {},
   "source": [
    "*Każda zmienna w Python zawiera link/ścieżkę do komórki w pamięci, w której jest przchowywayna informcja*"
   ]
  },
  {
   "cell_type": "markdown",
   "id": "fd659889",
   "metadata": {},
   "source": [
    "### my_var_1  =>  0x10cb24210  =>  10"
   ]
  },
  {
   "cell_type": "code",
   "execution_count": 2,
   "id": "cea64786",
   "metadata": {
    "scrolled": true
   },
   "outputs": [
    {
     "name": "stdout",
     "output_type": "stream",
     "text": [
      "0x10cb24210\n"
     ]
    }
   ],
   "source": [
    "my_var_1 = 10\n",
    "print(hex(id(my_var_1)))"
   ]
  },
  {
   "cell_type": "code",
   "execution_count": 3,
   "id": "892c79af",
   "metadata": {},
   "outputs": [],
   "source": [
    "greeting = 'Hello'"
   ]
  },
  {
   "cell_type": "code",
   "execution_count": 4,
   "id": "eac49bfe",
   "metadata": {},
   "outputs": [
    {
     "name": "stdout",
     "output_type": "stream",
     "text": [
      "Hello\n"
     ]
    }
   ],
   "source": [
    "print(greeting)"
   ]
  },
  {
   "cell_type": "code",
   "execution_count": 5,
   "id": "c8fab797",
   "metadata": {},
   "outputs": [
    {
     "name": "stdout",
     "output_type": "stream",
     "text": [
      "4585306928\n"
     ]
    }
   ],
   "source": [
    "print(id(greeting))"
   ]
  },
  {
   "cell_type": "code",
   "execution_count": 6,
   "id": "e810fe0a",
   "metadata": {},
   "outputs": [
    {
     "name": "stdout",
     "output_type": "stream",
     "text": [
      "0x1114e3b30\n"
     ]
    }
   ],
   "source": [
    "print(hex(id(greeting)))"
   ]
  },
  {
   "cell_type": "markdown",
   "id": "fbc3f3d4",
   "metadata": {},
   "source": [
    "---"
   ]
  },
  {
   "cell_type": "markdown",
   "id": "35d97907",
   "metadata": {},
   "source": [
    "### Reference counting | Liczenie referencji"
   ]
  },
  {
   "cell_type": "code",
   "execution_count": 11,
   "id": "7d0fa181",
   "metadata": {},
   "outputs": [],
   "source": [
    "a = 10"
   ]
  },
  {
   "cell_type": "code",
   "execution_count": 14,
   "id": "1b3eed55",
   "metadata": {},
   "outputs": [],
   "source": [
    "b = a"
   ]
  },
  {
   "cell_type": "code",
   "execution_count": 15,
   "id": "a55d7364",
   "metadata": {},
   "outputs": [
    {
     "data": {
      "text/plain": [
       "True"
      ]
     },
     "execution_count": 15,
     "metadata": {},
     "output_type": "execute_result"
    }
   ],
   "source": [
    "a is b # a zawiera link do komórki z liczbą 10, natomiast b zawiera link do zmiennej a"
   ]
  },
  {
   "cell_type": "markdown",
   "id": "572d8dc3",
   "metadata": {},
   "source": [
    "/|\\ to oznacza że liczba referecyjna jest równa 2\n",
    " |          zmienna a\n",
    "           /\n",
    " 10 - 0x1000 \n",
    "           \\\n",
    "            zmienna b"
   ]
  },
  {
   "cell_type": "markdown",
   "id": "406ea755",
   "metadata": {},
   "source": [
    "### Jak otrzymać liczbę referncyjną ?"
   ]
  },
  {
   "cell_type": "code",
   "execution_count": 25,
   "id": "75807702",
   "metadata": {},
   "outputs": [],
   "source": [
    "import sys"
   ]
  },
  {
   "cell_type": "code",
   "execution_count": 55,
   "id": "e5859c9d",
   "metadata": {},
   "outputs": [],
   "source": [
    "a = [1, 2, 3]"
   ]
  },
  {
   "cell_type": "code",
   "execution_count": 56,
   "id": "c91a897b",
   "metadata": {},
   "outputs": [
    {
     "data": {
      "text/plain": [
       "2"
      ]
     },
     "execution_count": 56,
     "metadata": {},
     "output_type": "execute_result"
    }
   ],
   "source": [
    "sys.getrefcount(a) # liczy od 1"
   ]
  },
  {
   "cell_type": "code",
   "execution_count": 57,
   "id": "f6e2ff86",
   "metadata": {},
   "outputs": [],
   "source": [
    "import ctypes"
   ]
  },
  {
   "cell_type": "code",
   "execution_count": 58,
   "id": "c27d3935",
   "metadata": {},
   "outputs": [],
   "source": [
    "def get_ref_count(address: int):\n",
    "    return ctypes.c_long.from_address(address).value"
   ]
  },
  {
   "cell_type": "code",
   "execution_count": 59,
   "id": "23e85812",
   "metadata": {},
   "outputs": [
    {
     "data": {
      "text/plain": [
       "1"
      ]
     },
     "execution_count": 59,
     "metadata": {},
     "output_type": "execute_result"
    }
   ],
   "source": [
    "get_ref_count(id(a)) # liczy od 0 "
   ]
  },
  {
   "cell_type": "code",
   "execution_count": 60,
   "id": "39906bdd",
   "metadata": {},
   "outputs": [],
   "source": [
    "b = a"
   ]
  },
  {
   "cell_type": "code",
   "execution_count": 61,
   "id": "2159ff10",
   "metadata": {},
   "outputs": [
    {
     "data": {
      "text/plain": [
       "2"
      ]
     },
     "execution_count": 61,
     "metadata": {},
     "output_type": "execute_result"
    }
   ],
   "source": [
    "get_ref_count(id(a))"
   ]
  },
  {
   "cell_type": "code",
   "execution_count": 62,
   "id": "d6631dc8",
   "metadata": {},
   "outputs": [],
   "source": [
    "c = a"
   ]
  },
  {
   "cell_type": "code",
   "execution_count": 63,
   "id": "95d0ea92",
   "metadata": {},
   "outputs": [
    {
     "data": {
      "text/plain": [
       "3"
      ]
     },
     "execution_count": 63,
     "metadata": {},
     "output_type": "execute_result"
    }
   ],
   "source": [
    "get_ref_count(id(a))"
   ]
  },
  {
   "cell_type": "code",
   "execution_count": 64,
   "id": "21f79199",
   "metadata": {},
   "outputs": [],
   "source": [
    "c = 10"
   ]
  },
  {
   "cell_type": "code",
   "execution_count": 65,
   "id": "56012de8",
   "metadata": {},
   "outputs": [
    {
     "data": {
      "text/plain": [
       "2"
      ]
     },
     "execution_count": 65,
     "metadata": {},
     "output_type": "execute_result"
    }
   ],
   "source": [
    "get_ref_count(id(a))"
   ]
  },
  {
   "cell_type": "markdown",
   "id": "76226fb5",
   "metadata": {},
   "source": [
    "---"
   ]
  },
  {
   "cell_type": "markdown",
   "id": "052a8a0c",
   "metadata": {},
   "source": [
    "## Garbage Collection"
   ]
  },
  {
   "cell_type": "code",
   "execution_count": null,
   "id": "f0d9742a",
   "metadata": {},
   "outputs": [],
   "source": []
  },
  {
   "cell_type": "markdown",
   "id": "d68214a4",
   "metadata": {},
   "source": [
    "# Python Optimization"
   ]
  },
  {
   "cell_type": "code",
   "execution_count": 2,
   "id": "87094880",
   "metadata": {},
   "outputs": [],
   "source": [
    "def compare_eq(n):\n",
    "    a = 'a very ver very long string' * 200\n",
    "    b = 'a very ver very long string' * 200\n",
    "    for i in range(n):\n",
    "        if a == b:\n",
    "            pass"
   ]
  },
  {
   "cell_type": "code",
   "execution_count": 3,
   "id": "7f73022a",
   "metadata": {},
   "outputs": [],
   "source": [
    "def compare_int(n):\n",
    "    a = 'a very ver very long string' * 200\n",
    "    b = 'a very ver very long string' * 200\n",
    "    for i in range(n):\n",
    "        if a is b:\n",
    "            pass"
   ]
  },
  {
   "cell_type": "code",
   "execution_count": 4,
   "id": "fac5afcf",
   "metadata": {},
   "outputs": [],
   "source": [
    "import time"
   ]
  },
  {
   "cell_type": "code",
   "execution_count": 6,
   "id": "39e187f9",
   "metadata": {},
   "outputs": [
    {
     "data": {
      "text/plain": [
       "3.64582745899952"
      ]
     },
     "execution_count": 6,
     "metadata": {},
     "output_type": "execute_result"
    }
   ],
   "source": [
    "start = time.perf_counter()\n",
    "compare_eq(10000000)\n",
    "time.perf_counter() - start"
   ]
  },
  {
   "cell_type": "code",
   "execution_count": 7,
   "id": "936a897d",
   "metadata": {},
   "outputs": [
    {
     "data": {
      "text/plain": [
       "0.3065607500002443"
      ]
     },
     "execution_count": 7,
     "metadata": {},
     "output_type": "execute_result"
    }
   ],
   "source": [
    "start = time.perf_counter()\n",
    "compare_int(10000000)\n",
    "time.perf_counter() - start"
   ]
  },
  {
   "cell_type": "code",
   "execution_count": null,
   "id": "5d417d3f",
   "metadata": {},
   "outputs": [],
   "source": []
  }
 ],
 "metadata": {
  "kernelspec": {
   "display_name": "Python 3 (ipykernel)",
   "language": "python",
   "name": "python3"
  },
  "language_info": {
   "codemirror_mode": {
    "name": "ipython",
    "version": 3
   },
   "file_extension": ".py",
   "mimetype": "text/x-python",
   "name": "python",
   "nbconvert_exporter": "python",
   "pygments_lexer": "ipython3",
   "version": "3.10.8"
  }
 },
 "nbformat": 4,
 "nbformat_minor": 5
}
