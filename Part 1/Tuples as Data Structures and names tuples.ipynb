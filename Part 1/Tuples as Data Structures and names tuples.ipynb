{
 "cells": [
  {
   "cell_type": "markdown",
   "id": "2dfb1d97",
   "metadata": {},
   "source": [
    "## Spis treści"
   ]
  },
  {
   "cell_type": "markdown",
   "id": "7e9bbabe",
   "metadata": {},
   "source": [
    "# Używanie `namedtuple` ( ogłoszenie )"
   ]
  },
  {
   "cell_type": "code",
   "execution_count": 18,
   "id": "08a9845a",
   "metadata": {},
   "outputs": [],
   "source": [
    "p = (100, 200) # Punkt"
   ]
  },
  {
   "cell_type": "code",
   "execution_count": 19,
   "id": "45d51ac8",
   "metadata": {},
   "outputs": [
    {
     "data": {
      "text/plain": [
       "100"
      ]
     },
     "execution_count": 19,
     "metadata": {},
     "output_type": "execute_result"
    }
   ],
   "source": [
    "p[0] # Wpółrzędna x"
   ]
  },
  {
   "cell_type": "code",
   "execution_count": 20,
   "id": "418aaf2e",
   "metadata": {},
   "outputs": [
    {
     "data": {
      "text/plain": [
       "200"
      ]
     },
     "execution_count": 20,
     "metadata": {},
     "output_type": "execute_result"
    }
   ],
   "source": [
    "p[1] # Wpółrzędna y"
   ]
  },
  {
   "cell_type": "markdown",
   "id": "5394e21c",
   "metadata": {},
   "source": [
    "### To można uprościć za pomocą wbudowanego objektu `nemedtuple`"
   ]
  },
  {
   "cell_type": "code",
   "execution_count": 21,
   "id": "01b3823a",
   "metadata": {},
   "outputs": [],
   "source": [
    "from collections import namedtuple"
   ]
  },
  {
   "cell_type": "code",
   "execution_count": 22,
   "id": "2433512e",
   "metadata": {},
   "outputs": [],
   "source": [
    "Point2D = namedtuple('Point2D', ['x', 'y'])"
   ]
  },
  {
   "cell_type": "code",
   "execution_count": 23,
   "id": "9a6e1544",
   "metadata": {},
   "outputs": [],
   "source": [
    "p1 = Point2D(10, 20)"
   ]
  },
  {
   "cell_type": "code",
   "execution_count": 24,
   "id": "071a5c9b",
   "metadata": {},
   "outputs": [
    {
     "data": {
      "text/plain": [
       "Point2D(x=10, y=20)"
      ]
     },
     "execution_count": 24,
     "metadata": {},
     "output_type": "execute_result"
    }
   ],
   "source": [
    "p1"
   ]
  },
  {
   "cell_type": "code",
   "execution_count": 25,
   "id": "b7d91bfa",
   "metadata": {},
   "outputs": [
    {
     "data": {
      "text/plain": [
       "__main__.Point2D"
      ]
     },
     "execution_count": 25,
     "metadata": {},
     "output_type": "execute_result"
    }
   ],
   "source": [
    "type(p1)"
   ]
  },
  {
   "cell_type": "code",
   "execution_count": 26,
   "id": "6b0c60da",
   "metadata": {},
   "outputs": [
    {
     "data": {
      "text/plain": [
       "10"
      ]
     },
     "execution_count": 26,
     "metadata": {},
     "output_type": "execute_result"
    }
   ],
   "source": [
    "p1.x"
   ]
  },
  {
   "cell_type": "code",
   "execution_count": 27,
   "id": "4d9ccaaf",
   "metadata": {},
   "outputs": [
    {
     "data": {
      "text/plain": [
       "20"
      ]
     },
     "execution_count": 27,
     "metadata": {},
     "output_type": "execute_result"
    }
   ],
   "source": [
    "p1.y"
   ]
  },
  {
   "cell_type": "markdown",
   "id": "79b9e161",
   "metadata": {},
   "source": [
    "### Dlaczego nie zimplementować swojej klasy ?"
   ]
  },
  {
   "cell_type": "code",
   "execution_count": 29,
   "id": "ec033d24",
   "metadata": {},
   "outputs": [],
   "source": [
    "class Point3D:\n",
    "    def __init__(self, x, y, z):\n",
    "        self.x = x\n",
    "        self.y = y\n",
    "        self.z = z\n",
    "        \n",
    "    def __repr__(self):\n",
    "        return f'{self.__class__.__name__}(x={self.x}, y={self.y})'"
   ]
  },
  {
   "cell_type": "code",
   "execution_count": 30,
   "id": "398ece79",
   "metadata": {},
   "outputs": [],
   "source": [
    "p1 = Point3D(10, 20, 30)"
   ]
  },
  {
   "cell_type": "code",
   "execution_count": 31,
   "id": "ba53fb1f",
   "metadata": {},
   "outputs": [
    {
     "data": {
      "text/plain": [
       "Point3D(x=10, y=20)"
      ]
     },
     "execution_count": 31,
     "metadata": {},
     "output_type": "execute_result"
    }
   ],
   "source": [
    "p1"
   ]
  },
  {
   "cell_type": "code",
   "execution_count": 32,
   "id": "fa693fd8",
   "metadata": {},
   "outputs": [],
   "source": [
    "Point2D = namedtuple('Point2D', ['x', 'y'])"
   ]
  },
  {
   "cell_type": "code",
   "execution_count": 35,
   "id": "95e355e5",
   "metadata": {},
   "outputs": [],
   "source": [
    "p2 = Point2D(x=100, y=200)"
   ]
  },
  {
   "cell_type": "code",
   "execution_count": 36,
   "id": "bb8518f1",
   "metadata": {},
   "outputs": [
    {
     "data": {
      "text/plain": [
       "Point2D(x=100, y=200)"
      ]
     },
     "execution_count": 36,
     "metadata": {},
     "output_type": "execute_result"
    }
   ],
   "source": [
    "p2"
   ]
  },
  {
   "cell_type": "code",
   "execution_count": 39,
   "id": "7609e98b",
   "metadata": {},
   "outputs": [
    {
     "ename": "TypeError",
     "evalue": "'Point3D' object is not iterable",
     "output_type": "error",
     "traceback": [
      "\u001b[0;31m---------------------------------------------------------------------------\u001b[0m",
      "\u001b[0;31mTypeError\u001b[0m                                 Traceback (most recent call last)",
      "Cell \u001b[0;32mIn[39], line 2\u001b[0m\n\u001b[1;32m      1\u001b[0m \u001b[38;5;66;03m# BO klasa nie jest iterowana\u001b[39;00m\n\u001b[0;32m----> 2\u001b[0m \u001b[38;5;28;01mfor\u001b[39;00m i \u001b[38;5;129;01min\u001b[39;00m p1:\n\u001b[1;32m      3\u001b[0m     \u001b[38;5;28mprint\u001b[39m(i)\n",
      "\u001b[0;31mTypeError\u001b[0m: 'Point3D' object is not iterable"
     ]
    }
   ],
   "source": [
    "# BO klasa nie jest iterowana\n",
    "for i in p1:\n",
    "    print(i)"
   ]
  },
  {
   "cell_type": "markdown",
   "id": "93f75c39",
   "metadata": {},
   "source": [
    "# Używanie namedtuple ( modyfikacja )"
   ]
  },
  {
   "cell_type": "code",
   "execution_count": null,
   "id": "2f53af98",
   "metadata": {},
   "outputs": [],
   "source": []
  }
 ],
 "metadata": {
  "kernelspec": {
   "display_name": "Python 3 (ipykernel)",
   "language": "python",
   "name": "python3"
  },
  "language_info": {
   "codemirror_mode": {
    "name": "ipython",
    "version": 3
   },
   "file_extension": ".py",
   "mimetype": "text/x-python",
   "name": "python",
   "nbconvert_exporter": "python",
   "pygments_lexer": "ipython3",
   "version": "3.10.8"
  }
 },
 "nbformat": 4,
 "nbformat_minor": 5
}
